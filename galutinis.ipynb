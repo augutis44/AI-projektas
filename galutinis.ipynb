{
  "nbformat": 4,
  "nbformat_minor": 0,
  "metadata": {
    "colab": {
      "name": "Untitled3.ipynb",
      "provenance": [],
      "mount_file_id": "1z3eHtUlI1d7ylspIal6MuyDE_mVVF6HA",
      "authorship_tag": "ABX9TyPdnufYrMvIdTOWS73SRZZy",
      "include_colab_link": true
    },
    "kernelspec": {
      "name": "python3",
      "display_name": "Python 3"
    },
    "language_info": {
      "name": "python"
    },
    "accelerator": "GPU"
  },
  "cells": [
    {
      "cell_type": "markdown",
      "metadata": {
        "id": "view-in-github",
        "colab_type": "text"
      },
      "source": [
        "<a href=\"https://colab.research.google.com/github/augutis44/AI-projektas/blob/main/galutinis.ipynb\" target=\"_parent\"><img src=\"https://colab.research.google.com/assets/colab-badge.svg\" alt=\"Open In Colab\"/></a>"
      ]
    },
    {
      "cell_type": "code",
      "execution_count": 1,
      "metadata": {
        "id": "8NI-R6MWWTmt"
      },
      "outputs": [],
      "source": [
        "import gzip\n",
        "import pickle\n",
        "import time\n",
        "import os\n",
        "import numpy as np\n",
        "from tensorflow import keras\n",
        "from datetime import datetime\n",
        "from tensorflow.keras.layers import Conv2D, Dense\n",
        "from tensorflow.keras.callbacks import TensorBoard\n",
        "from sklearn.model_selection import train_test_split"
      ]
    },
    {
      "cell_type": "code",
      "source": [
        "from google.colab import drive\n",
        "drive.mount('/content/drive')"
      ],
      "metadata": {
        "id": "trBHZ5nFc8bi",
        "outputId": "3ed3336e-8581-400b-beea-cd39305bfb05",
        "colab": {
          "base_uri": "https://localhost:8080/"
        }
      },
      "execution_count": 2,
      "outputs": [
        {
          "output_type": "stream",
          "name": "stdout",
          "text": [
            "Mounted at /content/drive\n"
          ]
        }
      ]
    },
    {
      "cell_type": "code",
      "source": [
        "X,y = pickle.load(gzip.open('/content/drive/MyDrive/Projektas/flatland_train.data','rb'))\n",
        "y[y != 0] -= 2\n",
        "X = X.reshape(X.shape[0], 50, 50, 1) / 255.0"
      ],
      "metadata": {
        "id": "9JY7sGYVWWmO"
      },
      "execution_count": 3,
      "outputs": []
    },
    {
      "cell_type": "code",
      "source": [
        "X_train, X_test, y_train, y_test = train_test_split(\n",
        "X, y, test_size=0.33, random_state=42)"
      ],
      "metadata": {
        "id": "qj-qInA4cpAR"
      },
      "execution_count": 4,
      "outputs": []
    },
    {
      "cell_type": "code",
      "source": [
        "model = keras.models.Sequential()\n",
        "# Any pre-processing/re-shaping should be implemented using keras\n",
        "model.add(keras.layers.Flatten(input_shape=[50, 50]))\n",
        "model.add(keras.layers.Dense(20, activation='relu'))\n",
        "model.add(keras.layers.Dense(5, activation='softmax'))\n",
        "model.compile(loss=\"sparse_categorical_crossentropy\",\n",
        "              optimizer=\"sgd\",\n",
        "              metrics=[\"accuracy\"])"
      ],
      "metadata": {
        "id": "kptsfUfmWf97"
      },
      "execution_count": 5,
      "outputs": []
    },
    {
      "cell_type": "code",
      "source": [
        "model.fit(X_train, y_train, epochs=20)"
      ],
      "metadata": {
        "colab": {
          "base_uri": "https://localhost:8080/"
        },
        "id": "L4Aff5IfWhoN",
        "outputId": "2f7b24e6-8169-4b8c-82bf-57ae579a6f47"
      },
      "execution_count": 6,
      "outputs": [
        {
          "output_type": "stream",
          "name": "stdout",
          "text": [
            "Epoch 1/20\n",
            "210/210 [==============================] - 3s 3ms/step - loss: 1.5067 - accuracy: 0.3952\n",
            "Epoch 2/20\n",
            "210/210 [==============================] - 1s 3ms/step - loss: 1.3904 - accuracy: 0.4648\n",
            "Epoch 3/20\n",
            "210/210 [==============================] - 1s 3ms/step - loss: 1.2967 - accuracy: 0.4800\n",
            "Epoch 4/20\n",
            "210/210 [==============================] - 1s 3ms/step - loss: 1.2316 - accuracy: 0.5003\n",
            "Epoch 5/20\n",
            "210/210 [==============================] - 1s 3ms/step - loss: 1.1865 - accuracy: 0.5164\n",
            "Epoch 6/20\n",
            "210/210 [==============================] - 1s 3ms/step - loss: 1.1544 - accuracy: 0.5285\n",
            "Epoch 7/20\n",
            "210/210 [==============================] - 1s 3ms/step - loss: 1.1292 - accuracy: 0.5388\n",
            "Epoch 8/20\n",
            "210/210 [==============================] - 1s 3ms/step - loss: 1.1099 - accuracy: 0.5473\n",
            "Epoch 9/20\n",
            "210/210 [==============================] - 1s 3ms/step - loss: 1.0916 - accuracy: 0.5576\n",
            "Epoch 10/20\n",
            "210/210 [==============================] - 1s 4ms/step - loss: 1.0730 - accuracy: 0.5610\n",
            "Epoch 11/20\n",
            "210/210 [==============================] - 1s 3ms/step - loss: 1.0571 - accuracy: 0.5697\n",
            "Epoch 12/20\n",
            "210/210 [==============================] - 1s 3ms/step - loss: 1.0385 - accuracy: 0.5799\n",
            "Epoch 13/20\n",
            "210/210 [==============================] - 1s 3ms/step - loss: 1.0256 - accuracy: 0.5813\n",
            "Epoch 14/20\n",
            "210/210 [==============================] - 1s 3ms/step - loss: 1.0119 - accuracy: 0.5909\n",
            "Epoch 15/20\n",
            "210/210 [==============================] - 1s 3ms/step - loss: 0.9999 - accuracy: 0.5991\n",
            "Epoch 16/20\n",
            "210/210 [==============================] - 1s 3ms/step - loss: 0.9863 - accuracy: 0.6057\n",
            "Epoch 17/20\n",
            "210/210 [==============================] - 1s 3ms/step - loss: 0.9728 - accuracy: 0.6079\n",
            "Epoch 18/20\n",
            "210/210 [==============================] - 1s 3ms/step - loss: 0.9623 - accuracy: 0.6149\n",
            "Epoch 19/20\n",
            "210/210 [==============================] - 1s 3ms/step - loss: 0.9513 - accuracy: 0.6231\n",
            "Epoch 20/20\n",
            "210/210 [==============================] - 1s 3ms/step - loss: 0.9375 - accuracy: 0.6288\n"
          ]
        },
        {
          "output_type": "execute_result",
          "data": {
            "text/plain": [
              "<keras.callbacks.History at 0x7f5a70131690>"
            ]
          },
          "metadata": {},
          "execution_count": 6
        }
      ]
    },
    {
      "cell_type": "code",
      "source": [
        "model = keras.models.Sequential()\n",
        "model.add(keras.layers.Conv2D(32, kernel_size=(3, 3), input_shape=[50, 50, 1]))\n",
        "model.add(keras.layers.BatchNormalization(axis=-1))   \n",
        "model.add(keras.layers.Activation(\"relu\"))            \n",
        "model.add(keras.layers.Conv2D(32, (3, 3), activation='relu'))\n",
        "model.add(keras.layers.BatchNormalization(axis=-1))\n",
        "model.add(keras.layers.Activation(\"relu\"))\n",
        "model.add(keras.layers.MaxPooling2D(pool_size=(2, 2)))\n",
        "model.add(keras.layers.BatchNormalization(axis=-1))\n",
        "model.add(keras.layers.Flatten())\n",
        "model.add(keras.layers.Dense(64, activation='relu'))\n",
        "model.add(keras.layers.Dense(5, activation='softmax'))\n",
        "\n",
        "model.compile(loss=\"sparse_categorical_crossentropy\",\n",
        "              optimizer=\"Adam\",\n",
        "              metrics=[\"accuracy\"])\n",
        "model.summary()"
      ],
      "metadata": {
        "colab": {
          "base_uri": "https://localhost:8080/"
        },
        "id": "rDbQkYBmWnBd",
        "outputId": "f430d222-ef2c-411f-b638-0c6fe568927d"
      },
      "execution_count": 7,
      "outputs": [
        {
          "output_type": "stream",
          "name": "stdout",
          "text": [
            "Model: \"sequential_1\"\n",
            "_________________________________________________________________\n",
            " Layer (type)                Output Shape              Param #   \n",
            "=================================================================\n",
            " conv2d (Conv2D)             (None, 48, 48, 32)        320       \n",
            "                                                                 \n",
            " batch_normalization (BatchN  (None, 48, 48, 32)       128       \n",
            " ormalization)                                                   \n",
            "                                                                 \n",
            " activation (Activation)     (None, 48, 48, 32)        0         \n",
            "                                                                 \n",
            " conv2d_1 (Conv2D)           (None, 46, 46, 32)        9248      \n",
            "                                                                 \n",
            " batch_normalization_1 (Batc  (None, 46, 46, 32)       128       \n",
            " hNormalization)                                                 \n",
            "                                                                 \n",
            " activation_1 (Activation)   (None, 46, 46, 32)        0         \n",
            "                                                                 \n",
            " max_pooling2d (MaxPooling2D  (None, 23, 23, 32)       0         \n",
            " )                                                               \n",
            "                                                                 \n",
            " batch_normalization_2 (Batc  (None, 23, 23, 32)       128       \n",
            " hNormalization)                                                 \n",
            "                                                                 \n",
            " flatten_1 (Flatten)         (None, 16928)             0         \n",
            "                                                                 \n",
            " dense_2 (Dense)             (None, 64)                1083456   \n",
            "                                                                 \n",
            " dense_3 (Dense)             (None, 5)                 325       \n",
            "                                                                 \n",
            "=================================================================\n",
            "Total params: 1,093,733\n",
            "Trainable params: 1,093,541\n",
            "Non-trainable params: 192\n",
            "_________________________________________________________________\n"
          ]
        }
      ]
    },
    {
      "cell_type": "code",
      "source": [
        "model.fit(X_train, y_train, epochs=20)"
      ],
      "metadata": {
        "colab": {
          "base_uri": "https://localhost:8080/"
        },
        "id": "5DGLMLTVWqLt",
        "outputId": "06589a7a-9555-4f69-ac15-44a6273a013a"
      },
      "execution_count": 8,
      "outputs": [
        {
          "output_type": "stream",
          "name": "stdout",
          "text": [
            "Epoch 1/20\n",
            "210/210 [==============================] - 11s 15ms/step - loss: 1.1467 - accuracy: 0.5594\n",
            "Epoch 2/20\n",
            "210/210 [==============================] - 3s 12ms/step - loss: 0.4947 - accuracy: 0.8187\n",
            "Epoch 3/20\n",
            "210/210 [==============================] - 3s 12ms/step - loss: 0.2949 - accuracy: 0.9052\n",
            "Epoch 4/20\n",
            "210/210 [==============================] - 3s 12ms/step - loss: 0.1167 - accuracy: 0.9690\n",
            "Epoch 5/20\n",
            "210/210 [==============================] - 3s 12ms/step - loss: 0.0586 - accuracy: 0.9861\n",
            "Epoch 6/20\n",
            "210/210 [==============================] - 3s 12ms/step - loss: 0.0318 - accuracy: 0.9918\n",
            "Epoch 7/20\n",
            "210/210 [==============================] - 3s 12ms/step - loss: 0.0219 - accuracy: 0.9954\n",
            "Epoch 8/20\n",
            "210/210 [==============================] - 3s 12ms/step - loss: 0.0078 - accuracy: 0.9987\n",
            "Epoch 9/20\n",
            "210/210 [==============================] - 3s 12ms/step - loss: 0.0070 - accuracy: 0.9988\n",
            "Epoch 10/20\n",
            "210/210 [==============================] - 3s 12ms/step - loss: 0.0038 - accuracy: 0.9991\n",
            "Epoch 11/20\n",
            "210/210 [==============================] - 3s 12ms/step - loss: 0.0193 - accuracy: 0.9949\n",
            "Epoch 12/20\n",
            "210/210 [==============================] - 3s 12ms/step - loss: 0.1346 - accuracy: 0.9573\n",
            "Epoch 13/20\n",
            "210/210 [==============================] - 3s 13ms/step - loss: 0.1018 - accuracy: 0.9697\n",
            "Epoch 14/20\n",
            "210/210 [==============================] - 3s 15ms/step - loss: 0.0319 - accuracy: 0.9913\n",
            "Epoch 15/20\n",
            "210/210 [==============================] - 3s 12ms/step - loss: 0.0112 - accuracy: 0.9972\n",
            "Epoch 16/20\n",
            "210/210 [==============================] - 3s 12ms/step - loss: 0.0083 - accuracy: 0.9981\n",
            "Epoch 17/20\n",
            "210/210 [==============================] - 3s 12ms/step - loss: 0.0014 - accuracy: 0.9999\n",
            "Epoch 18/20\n",
            "210/210 [==============================] - 3s 12ms/step - loss: 9.8480e-04 - accuracy: 0.9999\n",
            "Epoch 19/20\n",
            "210/210 [==============================] - 3s 12ms/step - loss: 8.8270e-04 - accuracy: 0.9997\n",
            "Epoch 20/20\n",
            "210/210 [==============================] - 3s 12ms/step - loss: 4.2317e-04 - accuracy: 0.9999\n"
          ]
        },
        {
          "output_type": "execute_result",
          "data": {
            "text/plain": [
              "<keras.callbacks.History at 0x7f59fe36a310>"
            ]
          },
          "metadata": {},
          "execution_count": 8
        }
      ]
    },
    {
      "cell_type": "code",
      "source": [
        "model = keras.models.Sequential()\n",
        "model.add(keras.layers.Conv2D(32, kernel_size=(3, 3), activation='relu', input_shape=[50, 50, 1])) \n",
        "model.add(keras.layers.BatchNormalization(axis=-1)) \n",
        "model.add(keras.layers.MaxPooling2D(pool_size=(2, 2)))\n",
        "model.add(keras.layers.Conv2D(32, kernel_size=(3, 3), activation='relu'))  \n",
        "model.add(keras.layers.MaxPooling2D(pool_size=(2, 2)))\n",
        "model.add(keras.layers.BatchNormalization(axis=-1))\n",
        "model.add(keras.layers.Flatten())\n",
        "model.add(keras.layers.Dense(64, activation='relu'))\n",
        "model.add(keras.layers.Dense(10, activation='relu'))\n",
        "model.add(keras.layers.Dense(5, activation='softmax'))\n",
        "model.compile(loss=\"sparse_categorical_crossentropy\",\n",
        "              optimizer=\"Adam\",\n",
        "              metrics=[\"accuracy\"])\n",
        "model.summary()"
      ],
      "metadata": {
        "colab": {
          "base_uri": "https://localhost:8080/"
        },
        "id": "ylO2K3M3a4_7",
        "outputId": "d684fc27-2161-4b41-d4ff-02b44d6124c2"
      },
      "execution_count": 9,
      "outputs": [
        {
          "output_type": "stream",
          "name": "stdout",
          "text": [
            "Model: \"sequential_2\"\n",
            "_________________________________________________________________\n",
            " Layer (type)                Output Shape              Param #   \n",
            "=================================================================\n",
            " conv2d_2 (Conv2D)           (None, 48, 48, 32)        320       \n",
            "                                                                 \n",
            " batch_normalization_3 (Batc  (None, 48, 48, 32)       128       \n",
            " hNormalization)                                                 \n",
            "                                                                 \n",
            " max_pooling2d_1 (MaxPooling  (None, 24, 24, 32)       0         \n",
            " 2D)                                                             \n",
            "                                                                 \n",
            " conv2d_3 (Conv2D)           (None, 22, 22, 32)        9248      \n",
            "                                                                 \n",
            " max_pooling2d_2 (MaxPooling  (None, 11, 11, 32)       0         \n",
            " 2D)                                                             \n",
            "                                                                 \n",
            " batch_normalization_4 (Batc  (None, 11, 11, 32)       128       \n",
            " hNormalization)                                                 \n",
            "                                                                 \n",
            " flatten_2 (Flatten)         (None, 3872)              0         \n",
            "                                                                 \n",
            " dense_4 (Dense)             (None, 64)                247872    \n",
            "                                                                 \n",
            " dense_5 (Dense)             (None, 10)                650       \n",
            "                                                                 \n",
            " dense_6 (Dense)             (None, 5)                 55        \n",
            "                                                                 \n",
            "=================================================================\n",
            "Total params: 258,401\n",
            "Trainable params: 258,273\n",
            "Non-trainable params: 128\n",
            "_________________________________________________________________\n"
          ]
        }
      ]
    },
    {
      "cell_type": "code",
      "source": [
        "model.fit(X_train, y_train, epochs=10)"
      ],
      "metadata": {
        "colab": {
          "base_uri": "https://localhost:8080/"
        },
        "id": "qGLsTKgka9pz",
        "outputId": "91d6037c-8d20-4ecd-fce0-55793782e997"
      },
      "execution_count": 14,
      "outputs": [
        {
          "output_type": "stream",
          "name": "stdout",
          "text": [
            "Epoch 1/10\n",
            "210/210 [==============================] - 2s 8ms/step - loss: 0.0392 - accuracy: 0.9909\n",
            "Epoch 2/10\n",
            "210/210 [==============================] - 2s 8ms/step - loss: 0.0193 - accuracy: 0.9939\n",
            "Epoch 3/10\n",
            "210/210 [==============================] - 2s 8ms/step - loss: 0.0157 - accuracy: 0.9961\n",
            "Epoch 4/10\n",
            "210/210 [==============================] - 2s 8ms/step - loss: 0.0230 - accuracy: 0.9933\n",
            "Epoch 5/10\n",
            "210/210 [==============================] - 2s 8ms/step - loss: 0.0389 - accuracy: 0.9864\n",
            "Epoch 6/10\n",
            "210/210 [==============================] - 2s 8ms/step - loss: 0.0534 - accuracy: 0.9816\n",
            "Epoch 7/10\n",
            "210/210 [==============================] - 2s 8ms/step - loss: 0.0462 - accuracy: 0.9869\n",
            "Epoch 8/10\n",
            "210/210 [==============================] - 2s 8ms/step - loss: 0.0260 - accuracy: 0.9916\n",
            "Epoch 9/10\n",
            "210/210 [==============================] - 2s 8ms/step - loss: 0.0293 - accuracy: 0.9925\n",
            "Epoch 10/10\n",
            "210/210 [==============================] - 2s 8ms/step - loss: 0.0270 - accuracy: 0.9921\n"
          ]
        },
        {
          "output_type": "execute_result",
          "data": {
            "text/plain": [
              "<keras.callbacks.History at 0x7f59fdf6da90>"
            ]
          },
          "metadata": {},
          "execution_count": 14
        }
      ]
    },
    {
      "cell_type": "code",
      "source": [
        "pred = model.predict(X_test).argmax(axis=1)\n",
        "print('Accuracy on train set - {0:.02%}'.format((pred == y_test).mean()))"
      ],
      "metadata": {
        "colab": {
          "base_uri": "https://localhost:8080/"
        },
        "id": "3k7EihtYbALf",
        "outputId": "393f391b-d4d6-4515-f8b5-7b9a1a8e17a2"
      },
      "execution_count": 15,
      "outputs": [
        {
          "output_type": "stream",
          "name": "stdout",
          "text": [
            "Accuracy on train set - 94.67%\n"
          ]
        }
      ]
    },
    {
      "cell_type": "code",
      "source": [
        "model.save('model.h5')"
      ],
      "metadata": {
        "id": "mvYvbpH2bCj1"
      },
      "execution_count": 16,
      "outputs": []
    },
    {
      "cell_type": "code",
      "source": [
        "def evaluate(path, model):\n",
        "    X, y = pickle.load(gzip.open(path, 'rb'))\n",
        "    y[y != 0] -= 2\n",
        "    X = X / 255.\n",
        "    acc = np.mean(model(X_test).numpy().argmax(axis=1) == y_test)\n",
        "    return acc\n",
        "\n",
        "model = keras.models.load_model('model.h5')\n",
        "evaluate('/content/drive/MyDrive/Projektas/flatland_train.data', model)"
      ],
      "metadata": {
        "colab": {
          "base_uri": "https://localhost:8080/"
        },
        "id": "1vHXS5gncO5_",
        "outputId": "128ce5e6-92e6-41c2-cbaf-f5c9576ed118"
      },
      "execution_count": 17,
      "outputs": [
        {
          "output_type": "execute_result",
          "data": {
            "text/plain": [
              "0.9466666666666667"
            ]
          },
          "metadata": {},
          "execution_count": 17
        }
      ]
    }
  ]
}