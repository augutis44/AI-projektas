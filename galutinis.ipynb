{
  "nbformat": 4,
  "nbformat_minor": 0,
  "metadata": {
    "colab": {
      "name": "Untitled3.ipynb",
      "provenance": [],
      "mount_file_id": "1z3eHtUlI1d7ylspIal6MuyDE_mVVF6HA",
      "authorship_tag": "ABX9TyNtJaIU1t5QK4fy0N+thXAb",
      "include_colab_link": true
    },
    "kernelspec": {
      "name": "python3",
      "display_name": "Python 3"
    },
    "language_info": {
      "name": "python"
    },
    "accelerator": "GPU"
  },
  "cells": [
    {
      "cell_type": "markdown",
      "metadata": {
        "id": "view-in-github",
        "colab_type": "text"
      },
      "source": [
        "<a href=\"https://colab.research.google.com/github/augutis44/AI-projektas/blob/main/galutinis.ipynb\" target=\"_parent\"><img src=\"https://colab.research.google.com/assets/colab-badge.svg\" alt=\"Open In Colab\"/></a>"
      ]
    },
    {
      "cell_type": "markdown",
      "source": [
        "Importinu reikalingus paketus"
      ],
      "metadata": {
        "id": "d0BFCSn_GBIv"
      }
    },
    {
      "cell_type": "code",
      "source": [
        "import gzip\n",
        "import pickle\n",
        "import time\n",
        "import os\n",
        "import numpy as np\n",
        "from tensorflow import keras\n",
        "from datetime import datetime\n",
        "from tensorflow.keras.layers import Conv2D, Dense\n",
        "from tensorflow.keras.callbacks import TensorBoard\n",
        "from sklearn.model_selection import train_test_split"
      ],
      "metadata": {
        "id": "tPKiiSY_F7XT"
      },
      "execution_count": null,
      "outputs": []
    },
    {
      "cell_type": "markdown",
      "source": [
        "Prisijungiu prie drive, kuriame yra flatland_train.data failas"
      ],
      "metadata": {
        "id": "w-yCwHGNGTER"
      }
    },
    {
      "cell_type": "code",
      "source": [
        "from google.colab import drive\n",
        "drive.mount('/content/drive')"
      ],
      "metadata": {
        "id": "trBHZ5nFc8bi",
        "outputId": "4cbfa43b-00b0-4598-e3e6-ece579faaf67",
        "colab": {
          "base_uri": "https://localhost:8080/"
        }
      },
      "execution_count": null,
      "outputs": [
        {
          "output_type": "stream",
          "name": "stdout",
          "text": [
            "Mounted at /content/drive\n"
          ]
        }
      ]
    },
    {
      "cell_type": "markdown",
      "source": [
        "Pakoreguoju faile esančius duomenis, kad su jais būtų lengviau dirbti. Toliau splitinu duomenis į train ir test 67/33 santykiu"
      ],
      "metadata": {
        "id": "QafpR-ATGnT2"
      }
    },
    {
      "cell_type": "code",
      "source": [
        "X,y = pickle.load(gzip.open('/content/drive/MyDrive/Projektas/flatland_train.data','rb'))\n",
        "y[y != 0] -= 2                                    # Fix labels to run from 0 to 4\n",
        "X = X.reshape(X.shape[0], 50, 50, 1) / 255.0      # Scale input to range [0, 1]"
      ],
      "metadata": {
        "id": "9JY7sGYVWWmO"
      },
      "execution_count": null,
      "outputs": []
    },
    {
      "cell_type": "code",
      "source": [
        "X_train, X_test, y_train, y_test = train_test_split(\n",
        "X, y, test_size=0.33, random_state=42)"
      ],
      "metadata": {
        "id": "qj-qInA4cpAR"
      },
      "execution_count": null,
      "outputs": []
    },
    {
      "cell_type": "markdown",
      "source": [
        "Pirmiausia mėginu modelį, kuris buvo aprašytas paskaitoje . Modelį treniruojame su train data."
      ],
      "metadata": {
        "id": "ZgpOhrlKHLaq"
      }
    },
    {
      "cell_type": "code",
      "source": [
        "model = keras.models.Sequential()\n",
        "# Any pre-processing/re-shaping should be implemented using keras\n",
        "model.add(keras.layers.Flatten(input_shape=[50, 50, 1]))\n",
        "model.add(keras.layers.Dense(20, activation='relu'))\n",
        "model.add(keras.layers.Dense(5, activation='softmax'))\n",
        "\n",
        "model.compile(loss=\"sparse_categorical_crossentropy\",\n",
        "              optimizer=\"sgd\",\n",
        "              metrics=[\"accuracy\"])\n",
        "model.summary()"
      ],
      "metadata": {
        "id": "kptsfUfmWf97"
      },
      "execution_count": null,
      "outputs": []
    },
    {
      "cell_type": "code",
      "source": [
        "model.fit(X_train, y_train, epochs=20)"
      ],
      "metadata": {
        "colab": {
          "base_uri": "https://localhost:8080/"
        },
        "id": "L4Aff5IfWhoN",
        "outputId": "827a7069-4178-4623-9aac-ba2fee3dcf33"
      },
      "execution_count": null,
      "outputs": [
        {
          "output_type": "stream",
          "name": "stdout",
          "text": [
            "Epoch 1/20\n",
            "210/210 [==============================] - 1s 3ms/step - loss: 1.5284 - accuracy: 0.3387\n",
            "Epoch 2/20\n",
            "210/210 [==============================] - 1s 3ms/step - loss: 1.3897 - accuracy: 0.4306\n",
            "Epoch 3/20\n",
            "210/210 [==============================] - 1s 3ms/step - loss: 1.3078 - accuracy: 0.4646\n",
            "Epoch 4/20\n",
            "210/210 [==============================] - 1s 4ms/step - loss: 1.2493 - accuracy: 0.4907\n",
            "Epoch 5/20\n",
            "210/210 [==============================] - 1s 4ms/step - loss: 1.2074 - accuracy: 0.4996\n",
            "Epoch 6/20\n",
            "210/210 [==============================] - 1s 3ms/step - loss: 1.1751 - accuracy: 0.5096\n",
            "Epoch 7/20\n",
            "210/210 [==============================] - 1s 3ms/step - loss: 1.1507 - accuracy: 0.5272\n",
            "Epoch 8/20\n",
            "210/210 [==============================] - 1s 3ms/step - loss: 1.1272 - accuracy: 0.5330\n",
            "Epoch 9/20\n",
            "210/210 [==============================] - 1s 3ms/step - loss: 1.1071 - accuracy: 0.5452\n",
            "Epoch 10/20\n",
            "210/210 [==============================] - 1s 3ms/step - loss: 1.0899 - accuracy: 0.5597\n",
            "Epoch 11/20\n",
            "210/210 [==============================] - 1s 3ms/step - loss: 1.0724 - accuracy: 0.5591\n",
            "Epoch 12/20\n",
            "210/210 [==============================] - 1s 4ms/step - loss: 1.0563 - accuracy: 0.5704\n",
            "Epoch 13/20\n",
            "210/210 [==============================] - 1s 3ms/step - loss: 1.0392 - accuracy: 0.5737\n",
            "Epoch 14/20\n",
            "210/210 [==============================] - 1s 3ms/step - loss: 1.0262 - accuracy: 0.5825\n",
            "Epoch 15/20\n",
            "210/210 [==============================] - 1s 3ms/step - loss: 1.0111 - accuracy: 0.5967\n",
            "Epoch 16/20\n",
            "210/210 [==============================] - 1s 3ms/step - loss: 0.9961 - accuracy: 0.5991\n",
            "Epoch 17/20\n",
            "210/210 [==============================] - 1s 3ms/step - loss: 0.9821 - accuracy: 0.6043\n",
            "Epoch 18/20\n",
            "210/210 [==============================] - 1s 4ms/step - loss: 0.9672 - accuracy: 0.6085\n",
            "Epoch 19/20\n",
            "210/210 [==============================] - 1s 3ms/step - loss: 0.9573 - accuracy: 0.6154\n",
            "Epoch 20/20\n",
            "210/210 [==============================] - 1s 3ms/step - loss: 0.9463 - accuracy: 0.6248\n"
          ]
        },
        {
          "output_type": "execute_result",
          "data": {
            "text/plain": [
              "<keras.callbacks.History at 0x7f18e05af710>"
            ]
          },
          "metadata": {},
          "execution_count": 9
        }
      ]
    },
    {
      "cell_type": "markdown",
      "source": [
        "Gaunu 0.6248 tikslumą. Šio modelio nepakanka, kadangi noriu pasiekti >90 tikslumą."
      ],
      "metadata": {
        "id": "A2xmiWTLHl09"
      }
    },
    {
      "cell_type": "markdown",
      "source": [
        "Patobulinu modelį pridėdama layerių prie modelio. Šį modelį toliau treniruoju su train data."
      ],
      "metadata": {
        "id": "1SDs56FnJt_u"
      }
    },
    {
      "cell_type": "code",
      "source": [
        "model = keras.models.Sequential()\n",
        "model.add(keras.layers.Conv2D(32, kernel_size=(3, 3), input_shape=[50, 50, 1]))\n",
        "model.add(keras.layers.BatchNormalization(axis=-1))   \n",
        "model.add(keras.layers.Activation(\"relu\"))            \n",
        "model.add(keras.layers.Conv2D(32, (3, 3), activation='relu'))\n",
        "model.add(keras.layers.BatchNormalization(axis=-1))\n",
        "model.add(keras.layers.Activation(\"relu\"))\n",
        "model.add(keras.layers.MaxPooling2D(pool_size=(2, 2)))\n",
        "model.add(keras.layers.BatchNormalization(axis=-1))\n",
        "model.add(keras.layers.Flatten())\n",
        "model.add(keras.layers.Dense(64, activation='relu'))\n",
        "model.add(keras.layers.Dense(5, activation='softmax'))\n",
        "\n",
        "model.compile(loss=\"sparse_categorical_crossentropy\",\n",
        "              optimizer=\"Adam\",\n",
        "              metrics=[\"accuracy\"])\n",
        "model.summary()"
      ],
      "metadata": {
        "colab": {
          "base_uri": "https://localhost:8080/"
        },
        "id": "rDbQkYBmWnBd",
        "outputId": "d650d0bd-2470-438d-e4bc-6563e5066c8e"
      },
      "execution_count": null,
      "outputs": [
        {
          "output_type": "stream",
          "name": "stdout",
          "text": [
            "Model: \"sequential_2\"\n",
            "_________________________________________________________________\n",
            " Layer (type)                Output Shape              Param #   \n",
            "=================================================================\n",
            " conv2d (Conv2D)             (None, 48, 48, 32)        320       \n",
            "                                                                 \n",
            " batch_normalization (BatchN  (None, 48, 48, 32)       128       \n",
            " ormalization)                                                   \n",
            "                                                                 \n",
            " activation (Activation)     (None, 48, 48, 32)        0         \n",
            "                                                                 \n",
            " conv2d_1 (Conv2D)           (None, 46, 46, 32)        9248      \n",
            "                                                                 \n",
            " batch_normalization_1 (Batc  (None, 46, 46, 32)       128       \n",
            " hNormalization)                                                 \n",
            "                                                                 \n",
            " activation_1 (Activation)   (None, 46, 46, 32)        0         \n",
            "                                                                 \n",
            " max_pooling2d (MaxPooling2D  (None, 23, 23, 32)       0         \n",
            " )                                                               \n",
            "                                                                 \n",
            " batch_normalization_2 (Batc  (None, 23, 23, 32)       128       \n",
            " hNormalization)                                                 \n",
            "                                                                 \n",
            " flatten_2 (Flatten)         (None, 16928)             0         \n",
            "                                                                 \n",
            " dense_4 (Dense)             (None, 64)                1083456   \n",
            "                                                                 \n",
            " dense_5 (Dense)             (None, 5)                 325       \n",
            "                                                                 \n",
            "=================================================================\n",
            "Total params: 1,093,733\n",
            "Trainable params: 1,093,541\n",
            "Non-trainable params: 192\n",
            "_________________________________________________________________\n"
          ]
        }
      ]
    },
    {
      "cell_type": "code",
      "source": [
        "model.fit(X_train, y_train, epochs=20)"
      ],
      "metadata": {
        "colab": {
          "base_uri": "https://localhost:8080/"
        },
        "id": "5DGLMLTVWqLt",
        "outputId": "343c5b5d-de17-4d34-c4e4-11dd1d89bfff"
      },
      "execution_count": null,
      "outputs": [
        {
          "output_type": "stream",
          "name": "stdout",
          "text": [
            "Epoch 1/20\n",
            "210/210 [==============================] - 10s 13ms/step - loss: 1.2134 - accuracy: 0.5315\n",
            "Epoch 2/20\n",
            "210/210 [==============================] - 3s 12ms/step - loss: 0.5356 - accuracy: 0.8028\n",
            "Epoch 3/20\n",
            "210/210 [==============================] - 3s 12ms/step - loss: 0.2877 - accuracy: 0.8991\n",
            "Epoch 4/20\n",
            "210/210 [==============================] - 3s 12ms/step - loss: 0.1194 - accuracy: 0.9637\n",
            "Epoch 5/20\n",
            "210/210 [==============================] - 3s 12ms/step - loss: 0.0509 - accuracy: 0.9852\n",
            "Epoch 6/20\n",
            "210/210 [==============================] - 3s 12ms/step - loss: 0.0253 - accuracy: 0.9952\n",
            "Epoch 7/20\n",
            "210/210 [==============================] - 3s 12ms/step - loss: 0.0149 - accuracy: 0.9963\n",
            "Epoch 8/20\n",
            "210/210 [==============================] - 3s 12ms/step - loss: 0.0173 - accuracy: 0.9954\n",
            "Epoch 9/20\n",
            "210/210 [==============================] - 2s 12ms/step - loss: 0.0157 - accuracy: 0.9961\n",
            "Epoch 10/20\n",
            "210/210 [==============================] - 3s 12ms/step - loss: 0.0160 - accuracy: 0.9963\n",
            "Epoch 11/20\n",
            "210/210 [==============================] - 3s 12ms/step - loss: 0.0310 - accuracy: 0.9934\n",
            "Epoch 12/20\n",
            "210/210 [==============================] - 3s 12ms/step - loss: 0.0570 - accuracy: 0.9833\n",
            "Epoch 13/20\n",
            "210/210 [==============================] - 3s 12ms/step - loss: 0.0911 - accuracy: 0.9740\n",
            "Epoch 14/20\n",
            "210/210 [==============================] - 3s 12ms/step - loss: 0.0444 - accuracy: 0.9867\n",
            "Epoch 15/20\n",
            "210/210 [==============================] - 3s 12ms/step - loss: 0.0151 - accuracy: 0.9954\n",
            "Epoch 16/20\n",
            "210/210 [==============================] - 3s 12ms/step - loss: 0.0075 - accuracy: 0.9979\n",
            "Epoch 17/20\n",
            "210/210 [==============================] - 3s 12ms/step - loss: 0.0017 - accuracy: 0.9996\n",
            "Epoch 18/20\n",
            "210/210 [==============================] - 3s 12ms/step - loss: 0.0042 - accuracy: 0.9996\n",
            "Epoch 19/20\n",
            "210/210 [==============================] - 3s 12ms/step - loss: 0.0010 - accuracy: 0.9999\n",
            "Epoch 20/20\n",
            "210/210 [==============================] - 3s 12ms/step - loss: 2.9688e-04 - accuracy: 1.0000\n"
          ]
        },
        {
          "output_type": "execute_result",
          "data": {
            "text/plain": [
              "<keras.callbacks.History at 0x7f18e02b9210>"
            ]
          },
          "metadata": {},
          "execution_count": 11
        }
      ]
    },
    {
      "cell_type": "markdown",
      "source": [
        "Gaunu jau gerą rezultatą. Tikslumas yra 1.00, o loss gaunasi labia mažas."
      ],
      "metadata": {
        "id": "30NAqJvdNurT"
      }
    },
    {
      "cell_type": "markdown",
      "source": [
        "Bandau dar kitaip pertvarkytą modelį"
      ],
      "metadata": {
        "id": "NI0LeYCkOFb8"
      }
    },
    {
      "cell_type": "code",
      "source": [
        "model = keras.models.Sequential()\n",
        "model.add(keras.layers.Conv2D(32, kernel_size=(3, 3), activation='relu', input_shape=[50, 50, 1])) \n",
        "model.add(keras.layers.BatchNormalization(axis=-1)) \n",
        "model.add(keras.layers.MaxPooling2D(pool_size=(2, 2)))\n",
        "model.add(keras.layers.Conv2D(32, kernel_size=(3, 3), activation='relu'))  \n",
        "model.add(keras.layers.MaxPooling2D(pool_size=(2, 2)))\n",
        "model.add(keras.layers.BatchNormalization(axis=-1))\n",
        "model.add(keras.layers.Flatten())\n",
        "model.add(keras.layers.Dense(64, activation='relu'))\n",
        "model.add(keras.layers.Dense(10, activation='relu'))\n",
        "model.add(keras.layers.Dense(5, activation='softmax'))\n",
        "\n",
        "model.compile(loss=\"sparse_categorical_crossentropy\",\n",
        "              optimizer=\"Adam\",\n",
        "              metrics=[\"accuracy\"])\n",
        "model.summary()"
      ],
      "metadata": {
        "colab": {
          "base_uri": "https://localhost:8080/"
        },
        "id": "ylO2K3M3a4_7",
        "outputId": "e7123269-90cd-43c0-97c1-1eab3e148711"
      },
      "execution_count": null,
      "outputs": [
        {
          "output_type": "stream",
          "name": "stdout",
          "text": [
            "Model: \"sequential_3\"\n",
            "_________________________________________________________________\n",
            " Layer (type)                Output Shape              Param #   \n",
            "=================================================================\n",
            " conv2d_2 (Conv2D)           (None, 48, 48, 32)        320       \n",
            "                                                                 \n",
            " batch_normalization_3 (Batc  (None, 48, 48, 32)       128       \n",
            " hNormalization)                                                 \n",
            "                                                                 \n",
            " max_pooling2d_1 (MaxPooling  (None, 24, 24, 32)       0         \n",
            " 2D)                                                             \n",
            "                                                                 \n",
            " conv2d_3 (Conv2D)           (None, 22, 22, 32)        9248      \n",
            "                                                                 \n",
            " max_pooling2d_2 (MaxPooling  (None, 11, 11, 32)       0         \n",
            " 2D)                                                             \n",
            "                                                                 \n",
            " batch_normalization_4 (Batc  (None, 11, 11, 32)       128       \n",
            " hNormalization)                                                 \n",
            "                                                                 \n",
            " flatten_3 (Flatten)         (None, 3872)              0         \n",
            "                                                                 \n",
            " dense_6 (Dense)             (None, 64)                247872    \n",
            "                                                                 \n",
            " dense_7 (Dense)             (None, 10)                650       \n",
            "                                                                 \n",
            " dense_8 (Dense)             (None, 5)                 55        \n",
            "                                                                 \n",
            "=================================================================\n",
            "Total params: 258,401\n",
            "Trainable params: 258,273\n",
            "Non-trainable params: 128\n",
            "_________________________________________________________________\n"
          ]
        }
      ]
    },
    {
      "cell_type": "code",
      "source": [
        "model.fit(X_train, y_train, epochs=10)"
      ],
      "metadata": {
        "colab": {
          "base_uri": "https://localhost:8080/"
        },
        "id": "qGLsTKgka9pz",
        "outputId": "c560bb7e-aeaf-433d-a190-03b5a96ab73e"
      },
      "execution_count": null,
      "outputs": [
        {
          "output_type": "stream",
          "name": "stdout",
          "text": [
            "Epoch 1/10\n",
            "210/210 [==============================] - 2s 9ms/step - loss: 0.0233 - accuracy: 0.9913\n",
            "Epoch 2/10\n",
            "210/210 [==============================] - 2s 9ms/step - loss: 0.0095 - accuracy: 0.9969\n",
            "Epoch 3/10\n",
            "210/210 [==============================] - 2s 9ms/step - loss: 0.0089 - accuracy: 0.9976\n",
            "Epoch 4/10\n",
            "210/210 [==============================] - 2s 9ms/step - loss: 0.0069 - accuracy: 0.9976\n",
            "Epoch 5/10\n",
            "210/210 [==============================] - 2s 9ms/step - loss: 0.0040 - accuracy: 0.9982\n",
            "Epoch 6/10\n",
            "210/210 [==============================] - 2s 9ms/step - loss: 0.0044 - accuracy: 0.9982\n",
            "Epoch 7/10\n",
            "210/210 [==============================] - 2s 9ms/step - loss: 0.0055 - accuracy: 0.9978\n",
            "Epoch 8/10\n",
            "210/210 [==============================] - 2s 9ms/step - loss: 0.0093 - accuracy: 0.9984\n",
            "Epoch 9/10\n",
            "210/210 [==============================] - 2s 9ms/step - loss: 0.0043 - accuracy: 0.9982\n",
            "Epoch 10/10\n",
            "210/210 [==============================] - 2s 9ms/step - loss: 0.0030 - accuracy: 0.9985\n"
          ]
        },
        {
          "output_type": "execute_result",
          "data": {
            "text/plain": [
              "<keras.callbacks.History at 0x7f1869b425d0>"
            ]
          },
          "metadata": {},
          "execution_count": 15
        }
      ]
    },
    {
      "cell_type": "markdown",
      "source": [
        "Modelio tikslumą gaunu 97%"
      ],
      "metadata": {
        "id": "N2N3yB5xXuAl"
      }
    },
    {
      "cell_type": "code",
      "source": [
        "pred = model.predict(X_test).argmax(axis=1)\n",
        "print('Accuracy on train set - {0:.02%}'.format((pred == y_test).mean()))"
      ],
      "metadata": {
        "colab": {
          "base_uri": "https://localhost:8080/"
        },
        "id": "3k7EihtYbALf",
        "outputId": "be247f3a-374a-4247-ac65-232404f00d9d"
      },
      "execution_count": null,
      "outputs": [
        {
          "output_type": "stream",
          "name": "stdout",
          "text": [
            "Accuracy on train set - 97.21%\n"
          ]
        }
      ]
    },
    {
      "cell_type": "code",
      "source": [
        "model.save('model.h5')"
      ],
      "metadata": {
        "id": "mvYvbpH2bCj1"
      },
      "execution_count": null,
      "outputs": []
    },
    {
      "cell_type": "code",
      "source": [
        "def evaluate(path, model):\n",
        "    X, y = pickle.load(gzip.open(path, 'rb'))\n",
        "    y[y != 0] -= 2\n",
        "    X = X / 255.\n",
        "    acc = np.mean(model(X_test).numpy().argmax(axis=1) == y_test)\n",
        "    return acc\n",
        "\n",
        "model = keras.models.load_model('model.h5')\n",
        "evaluate('/content/drive/MyDrive/Projektas/flatland_train.data', model)"
      ],
      "metadata": {
        "colab": {
          "base_uri": "https://localhost:8080/"
        },
        "id": "1vHXS5gncO5_",
        "outputId": "397ec4f1-a9fc-4d1d-883c-1a3cecd2177a"
      },
      "execution_count": null,
      "outputs": [
        {
          "output_type": "execute_result",
          "data": {
            "text/plain": [
              "0.9721212121212122"
            ]
          },
          "metadata": {},
          "execution_count": 18
        }
      ]
    }
  ]
}