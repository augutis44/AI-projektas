{
  "nbformat": 4,
  "nbformat_minor": 0,
  "metadata": {
    "colab": {
      "name": "Untitled3.ipynb",
      "provenance": [],
      "mount_file_id": "1z3eHtUlI1d7ylspIal6MuyDE_mVVF6HA",
      "authorship_tag": "ABX9TyM++RJnyP9aP+oI6YAckBQx",
      "include_colab_link": true
    },
    "kernelspec": {
      "name": "python3",
      "display_name": "Python 3"
    },
    "language_info": {
      "name": "python"
    },
    "accelerator": "GPU"
  },
  "cells": [
    {
      "cell_type": "markdown",
      "metadata": {
        "id": "view-in-github",
        "colab_type": "text"
      },
      "source": [
        "<a href=\"https://colab.research.google.com/github/augutis44/AI-projektas/blob/main/tvarkymas.ipynb\" target=\"_parent\"><img src=\"https://colab.research.google.com/assets/colab-badge.svg\" alt=\"Open In Colab\"/></a>"
      ]
    },
    {
      "cell_type": "code",
      "execution_count": 1,
      "metadata": {
        "id": "8NI-R6MWWTmt"
      },
      "outputs": [],
      "source": [
        "import gzip\n",
        "import pickle\n",
        "import time\n",
        "import os\n",
        "import numpy as np\n",
        "from tensorflow import keras\n",
        "from datetime import datetime\n",
        "from tensorflow.keras.layers import Conv2D, Dense\n",
        "from tensorflow.keras.callbacks import TensorBoard"
      ]
    },
    {
      "cell_type": "code",
      "source": [
        "X,y = pickle.load(gzip.open('/content/drive/MyDrive/Projektas/flatland_train.data','rb'))\n",
        "y[y != 0] -= 2\n",
        "X = X.reshape(X.shape[0], 50, 50, 1) / 255.0"
      ],
      "metadata": {
        "id": "9JY7sGYVWWmO"
      },
      "execution_count": 2,
      "outputs": []
    },
    {
      "cell_type": "code",
      "source": [
        "X_train, X_test, y_train, y_test = train_test_split(\n",
        "X, y, test_size=0.33, random_state=42)"
      ],
      "metadata": {
        "id": "qj-qInA4cpAR"
      },
      "execution_count": null,
      "outputs": []
    },
    {
      "cell_type": "code",
      "source": [
        "# Normalize (note that we add channel)\n",
        "X_train = X_train.reshape(X_train.shape[0], 50, 50, 1) / 255\n",
        "X_test = X_test.reshape(X_test.shape[0], 50, 50, 1) / 255"
      ],
      "metadata": {
        "id": "T2I5h14EcrIu"
      },
      "execution_count": null,
      "outputs": []
    },
    {
      "cell_type": "code",
      "source": [
        "model = keras.models.Sequential()\n",
        "# Any pre-processing/re-shaping should be implemented using keras\n",
        "model.add(keras.layers.Flatten(input_shape=[50, 50]))\n",
        "model.add(keras.layers.Dense(20, activation='relu'))\n",
        "model.add(keras.layers.Dense(5, activation='softmax'))\n",
        "model.compile(loss=\"sparse_categorical_crossentropy\",\n",
        "              optimizer=\"sgd\",\n",
        "              metrics=[\"accuracy\"])"
      ],
      "metadata": {
        "id": "kptsfUfmWf97"
      },
      "execution_count": 3,
      "outputs": []
    },
    {
      "cell_type": "code",
      "source": [
        "model.fit(X, y, epochs=20, validation_split=0.2)"
      ],
      "metadata": {
        "colab": {
          "base_uri": "https://localhost:8080/"
        },
        "id": "L4Aff5IfWhoN",
        "outputId": "e49f359b-59c8-4c32-c5e1-20fb702347c7"
      },
      "execution_count": 4,
      "outputs": [
        {
          "output_type": "stream",
          "name": "stdout",
          "text": [
            "Epoch 1/20\n",
            "250/250 [==============================] - 3s 5ms/step - loss: 1.4284 - accuracy: 0.4126 - val_loss: 1.3395 - val_accuracy: 0.4375\n",
            "Epoch 2/20\n",
            "250/250 [==============================] - 1s 4ms/step - loss: 1.2930 - accuracy: 0.4754 - val_loss: 1.2546 - val_accuracy: 0.4835\n",
            "Epoch 3/20\n",
            "250/250 [==============================] - 1s 4ms/step - loss: 1.2342 - accuracy: 0.4893 - val_loss: 1.2165 - val_accuracy: 0.4885\n",
            "Epoch 4/20\n",
            "250/250 [==============================] - 1s 4ms/step - loss: 1.1956 - accuracy: 0.5033 - val_loss: 1.1888 - val_accuracy: 0.4990\n",
            "Epoch 5/20\n",
            "250/250 [==============================] - 1s 4ms/step - loss: 1.1639 - accuracy: 0.5148 - val_loss: 1.1664 - val_accuracy: 0.5040\n",
            "Epoch 6/20\n",
            "250/250 [==============================] - 1s 4ms/step - loss: 1.1386 - accuracy: 0.5235 - val_loss: 1.1496 - val_accuracy: 0.5080\n",
            "Epoch 7/20\n",
            "250/250 [==============================] - 1s 4ms/step - loss: 1.1166 - accuracy: 0.5340 - val_loss: 1.1330 - val_accuracy: 0.5220\n",
            "Epoch 8/20\n",
            "250/250 [==============================] - 1s 4ms/step - loss: 1.0958 - accuracy: 0.5422 - val_loss: 1.1141 - val_accuracy: 0.5220\n",
            "Epoch 9/20\n",
            "250/250 [==============================] - 1s 4ms/step - loss: 1.0740 - accuracy: 0.5565 - val_loss: 1.0957 - val_accuracy: 0.5335\n",
            "Epoch 10/20\n",
            "250/250 [==============================] - 2s 7ms/step - loss: 1.0566 - accuracy: 0.5612 - val_loss: 1.0818 - val_accuracy: 0.5310\n",
            "Epoch 11/20\n",
            "250/250 [==============================] - 1s 5ms/step - loss: 1.0354 - accuracy: 0.5749 - val_loss: 1.0718 - val_accuracy: 0.5335\n",
            "Epoch 12/20\n",
            "250/250 [==============================] - 1s 4ms/step - loss: 1.0182 - accuracy: 0.5828 - val_loss: 1.0595 - val_accuracy: 0.5435\n",
            "Epoch 13/20\n",
            "250/250 [==============================] - 1s 4ms/step - loss: 0.9989 - accuracy: 0.5926 - val_loss: 1.0359 - val_accuracy: 0.5595\n",
            "Epoch 14/20\n",
            "250/250 [==============================] - 1s 4ms/step - loss: 0.9812 - accuracy: 0.6046 - val_loss: 1.0298 - val_accuracy: 0.5670\n",
            "Epoch 15/20\n",
            "250/250 [==============================] - 1s 4ms/step - loss: 0.9636 - accuracy: 0.6062 - val_loss: 1.0179 - val_accuracy: 0.5685\n",
            "Epoch 16/20\n",
            "250/250 [==============================] - 1s 4ms/step - loss: 0.9492 - accuracy: 0.6168 - val_loss: 1.0047 - val_accuracy: 0.5695\n",
            "Epoch 17/20\n",
            "250/250 [==============================] - 1s 4ms/step - loss: 0.9346 - accuracy: 0.6256 - val_loss: 1.0083 - val_accuracy: 0.5610\n",
            "Epoch 18/20\n",
            "250/250 [==============================] - 1s 4ms/step - loss: 0.9170 - accuracy: 0.6309 - val_loss: 0.9956 - val_accuracy: 0.5790\n",
            "Epoch 19/20\n",
            "250/250 [==============================] - 1s 4ms/step - loss: 0.9043 - accuracy: 0.6421 - val_loss: 0.9785 - val_accuracy: 0.5875\n",
            "Epoch 20/20\n",
            "250/250 [==============================] - 1s 4ms/step - loss: 0.8886 - accuracy: 0.6486 - val_loss: 0.9699 - val_accuracy: 0.5820\n"
          ]
        },
        {
          "output_type": "execute_result",
          "data": {
            "text/plain": [
              "<keras.callbacks.History at 0x7f90b74c69d0>"
            ]
          },
          "metadata": {},
          "execution_count": 4
        }
      ]
    },
    {
      "cell_type": "code",
      "source": [
        "model = keras.models.Sequential()\n",
        "model.add(keras.layers.Conv2D(32, kernel_size=(3, 3), input_shape=[50, 50, 1]))\n",
        "model.add(keras.layers.BatchNormalization(axis=-1))   \n",
        "model.add(keras.layers.Activation(\"relu\"))            \n",
        "model.add(keras.layers.Conv2D(32, (3, 3), activation='relu'))\n",
        "model.add(keras.layers.BatchNormalization(axis=-1))\n",
        "model.add(keras.layers.Activation(\"relu\"))\n",
        "model.add(keras.layers.MaxPooling2D(pool_size=(2, 2)))\n",
        "model.add(keras.layers.BatchNormalization(axis=-1))\n",
        "model.add(keras.layers.Flatten())\n",
        "model.add(keras.layers.Dense(64, activation='relu'))\n",
        "model.add(keras.layers.Dense(5, activation='softmax'))\n",
        "\n",
        "model.compile(loss=\"sparse_categorical_crossentropy\",\n",
        "              optimizer=\"Adam\",\n",
        "              metrics=[\"accuracy\"])\n",
        "model.summary()"
      ],
      "metadata": {
        "colab": {
          "base_uri": "https://localhost:8080/"
        },
        "id": "rDbQkYBmWnBd",
        "outputId": "6c29d74c-cd9b-40d4-f5f0-45f0ffb16cff"
      },
      "execution_count": 5,
      "outputs": [
        {
          "output_type": "stream",
          "name": "stdout",
          "text": [
            "Model: \"sequential_1\"\n",
            "_________________________________________________________________\n",
            " Layer (type)                Output Shape              Param #   \n",
            "=================================================================\n",
            " conv2d (Conv2D)             (None, 48, 48, 32)        320       \n",
            "                                                                 \n",
            " batch_normalization (BatchN  (None, 48, 48, 32)       128       \n",
            " ormalization)                                                   \n",
            "                                                                 \n",
            " activation (Activation)     (None, 48, 48, 32)        0         \n",
            "                                                                 \n",
            " conv2d_1 (Conv2D)           (None, 46, 46, 32)        9248      \n",
            "                                                                 \n",
            " batch_normalization_1 (Batc  (None, 46, 46, 32)       128       \n",
            " hNormalization)                                                 \n",
            "                                                                 \n",
            " activation_1 (Activation)   (None, 46, 46, 32)        0         \n",
            "                                                                 \n",
            " max_pooling2d (MaxPooling2D  (None, 23, 23, 32)       0         \n",
            " )                                                               \n",
            "                                                                 \n",
            " batch_normalization_2 (Batc  (None, 23, 23, 32)       128       \n",
            " hNormalization)                                                 \n",
            "                                                                 \n",
            " flatten_1 (Flatten)         (None, 16928)             0         \n",
            "                                                                 \n",
            " dense_2 (Dense)             (None, 64)                1083456   \n",
            "                                                                 \n",
            " dense_3 (Dense)             (None, 5)                 325       \n",
            "                                                                 \n",
            "=================================================================\n",
            "Total params: 1,093,733\n",
            "Trainable params: 1,093,541\n",
            "Non-trainable params: 192\n",
            "_________________________________________________________________\n"
          ]
        }
      ]
    },
    {
      "cell_type": "code",
      "source": [
        "model.fit(X, y, epochs=20, validation_split=0.2)"
      ],
      "metadata": {
        "colab": {
          "base_uri": "https://localhost:8080/"
        },
        "id": "5DGLMLTVWqLt",
        "outputId": "974cb41d-7b2d-4fe3-a457-7727e2fdae86"
      },
      "execution_count": 6,
      "outputs": [
        {
          "output_type": "stream",
          "name": "stdout",
          "text": [
            "Epoch 1/20\n",
            "250/250 [==============================] - 12s 18ms/step - loss: 1.1182 - accuracy: 0.5771 - val_loss: 7.7093 - val_accuracy: 0.1925\n",
            "Epoch 2/20\n",
            "250/250 [==============================] - 4s 17ms/step - loss: 0.4891 - accuracy: 0.8231 - val_loss: 3.7024 - val_accuracy: 0.1965\n",
            "Epoch 3/20\n",
            "250/250 [==============================] - 4s 15ms/step - loss: 0.2384 - accuracy: 0.9269 - val_loss: 0.7451 - val_accuracy: 0.7245\n",
            "Epoch 4/20\n",
            "250/250 [==============================] - 4s 15ms/step - loss: 0.1097 - accuracy: 0.9700 - val_loss: 0.2858 - val_accuracy: 0.9295\n",
            "Epoch 5/20\n",
            "250/250 [==============================] - 4s 15ms/step - loss: 0.0530 - accuracy: 0.9849 - val_loss: 0.3516 - val_accuracy: 0.9040\n",
            "Epoch 6/20\n",
            "250/250 [==============================] - 4s 16ms/step - loss: 0.0225 - accuracy: 0.9946 - val_loss: 0.2600 - val_accuracy: 0.9430\n",
            "Epoch 7/20\n",
            "250/250 [==============================] - 4s 16ms/step - loss: 0.0125 - accuracy: 0.9971 - val_loss: 0.2511 - val_accuracy: 0.9460\n",
            "Epoch 8/20\n",
            "250/250 [==============================] - 4s 15ms/step - loss: 0.0129 - accuracy: 0.9966 - val_loss: 0.3186 - val_accuracy: 0.9385\n",
            "Epoch 9/20\n",
            "250/250 [==============================] - 4s 16ms/step - loss: 0.0146 - accuracy: 0.9958 - val_loss: 0.3508 - val_accuracy: 0.9145\n",
            "Epoch 10/20\n",
            "250/250 [==============================] - 4s 16ms/step - loss: 0.0689 - accuracy: 0.9787 - val_loss: 5.8050 - val_accuracy: 0.4865\n",
            "Epoch 11/20\n",
            "250/250 [==============================] - 4s 15ms/step - loss: 0.0668 - accuracy: 0.9778 - val_loss: 1.0677 - val_accuracy: 0.7960\n",
            "Epoch 12/20\n",
            "250/250 [==============================] - 4s 15ms/step - loss: 0.0468 - accuracy: 0.9859 - val_loss: 3.6236 - val_accuracy: 0.5925\n",
            "Epoch 13/20\n",
            "250/250 [==============================] - 4s 16ms/step - loss: 0.0259 - accuracy: 0.9926 - val_loss: 0.3642 - val_accuracy: 0.9325\n",
            "Epoch 14/20\n",
            "250/250 [==============================] - 4s 16ms/step - loss: 0.0064 - accuracy: 0.9983 - val_loss: 0.3186 - val_accuracy: 0.9465\n",
            "Epoch 15/20\n",
            "250/250 [==============================] - 4s 16ms/step - loss: 0.0065 - accuracy: 0.9990 - val_loss: 0.4074 - val_accuracy: 0.9365\n",
            "Epoch 16/20\n",
            "250/250 [==============================] - 4s 15ms/step - loss: 0.0057 - accuracy: 0.9986 - val_loss: 1.2249 - val_accuracy: 0.8150\n",
            "Epoch 17/20\n",
            "250/250 [==============================] - 4s 15ms/step - loss: 0.0179 - accuracy: 0.9949 - val_loss: 0.4441 - val_accuracy: 0.9260\n",
            "Epoch 18/20\n",
            "250/250 [==============================] - 4s 16ms/step - loss: 0.0380 - accuracy: 0.9890 - val_loss: 0.4261 - val_accuracy: 0.9290\n",
            "Epoch 19/20\n",
            "250/250 [==============================] - 4s 15ms/step - loss: 0.0239 - accuracy: 0.9933 - val_loss: 0.3358 - val_accuracy: 0.9450\n",
            "Epoch 20/20\n",
            "250/250 [==============================] - 4s 16ms/step - loss: 0.0163 - accuracy: 0.9966 - val_loss: 0.4954 - val_accuracy: 0.9160\n"
          ]
        },
        {
          "output_type": "execute_result",
          "data": {
            "text/plain": [
              "<keras.callbacks.History at 0x7f90b3229fd0>"
            ]
          },
          "metadata": {},
          "execution_count": 6
        }
      ]
    },
    {
      "cell_type": "code",
      "source": [
        "model = keras.models.Sequential()\n",
        "model.add(keras.layers.Conv2D(32, kernel_size=(3, 3), activation='relu', input_shape=[50, 50, 1])) \n",
        "model.add(keras.layers.BatchNormalization(axis=-1)) \n",
        "model.add(keras.layers.MaxPooling2D(pool_size=(2, 2)))\n",
        "model.add(keras.layers.Conv2D(32, kernel_size=(3, 3), activation='relu'))  \n",
        "model.add(keras.layers.MaxPooling2D(pool_size=(2, 2)))\n",
        "model.add(keras.layers.BatchNormalization(axis=-1))\n",
        "model.add(keras.layers.Flatten())\n",
        "model.add(keras.layers.Dense(64, activation='relu'))\n",
        "model.add(keras.layers.Dense(10, activation='relu'))\n",
        "model.add(keras.layers.Dense(5, activation='softmax'))\n",
        "model.compile(loss=\"sparse_categorical_crossentropy\",\n",
        "              optimizer=\"Adam\",\n",
        "              metrics=[\"accuracy\"])\n",
        "model.summary()"
      ],
      "metadata": {
        "colab": {
          "base_uri": "https://localhost:8080/"
        },
        "id": "ylO2K3M3a4_7",
        "outputId": "3c71dd6c-ccab-479c-c250-70de113868c0"
      },
      "execution_count": 7,
      "outputs": [
        {
          "output_type": "stream",
          "name": "stdout",
          "text": [
            "Model: \"sequential_2\"\n",
            "_________________________________________________________________\n",
            " Layer (type)                Output Shape              Param #   \n",
            "=================================================================\n",
            " conv2d_2 (Conv2D)           (None, 48, 48, 32)        320       \n",
            "                                                                 \n",
            " batch_normalization_3 (Batc  (None, 48, 48, 32)       128       \n",
            " hNormalization)                                                 \n",
            "                                                                 \n",
            " max_pooling2d_1 (MaxPooling  (None, 24, 24, 32)       0         \n",
            " 2D)                                                             \n",
            "                                                                 \n",
            " conv2d_3 (Conv2D)           (None, 22, 22, 32)        9248      \n",
            "                                                                 \n",
            " max_pooling2d_2 (MaxPooling  (None, 11, 11, 32)       0         \n",
            " 2D)                                                             \n",
            "                                                                 \n",
            " batch_normalization_4 (Batc  (None, 11, 11, 32)       128       \n",
            " hNormalization)                                                 \n",
            "                                                                 \n",
            " flatten_2 (Flatten)         (None, 3872)              0         \n",
            "                                                                 \n",
            " dense_4 (Dense)             (None, 64)                247872    \n",
            "                                                                 \n",
            " dense_5 (Dense)             (None, 10)                650       \n",
            "                                                                 \n",
            " dense_6 (Dense)             (None, 5)                 55        \n",
            "                                                                 \n",
            "=================================================================\n",
            "Total params: 258,401\n",
            "Trainable params: 258,273\n",
            "Non-trainable params: 128\n",
            "_________________________________________________________________\n"
          ]
        }
      ]
    },
    {
      "cell_type": "code",
      "source": [
        "model.fit(X, y, epochs=10,validation_split=0.2)"
      ],
      "metadata": {
        "colab": {
          "base_uri": "https://localhost:8080/"
        },
        "id": "qGLsTKgka9pz",
        "outputId": "bac75e41-f0a5-4345-9642-f30abd2de8e7"
      },
      "execution_count": 10,
      "outputs": [
        {
          "output_type": "stream",
          "name": "stdout",
          "text": [
            "Epoch 1/10\n",
            "250/250 [==============================] - 3s 13ms/step - loss: 0.0054 - accuracy: 0.9983 - val_loss: 0.2433 - val_accuracy: 0.9725\n",
            "Epoch 2/10\n",
            "250/250 [==============================] - 3s 13ms/step - loss: 0.0114 - accuracy: 0.9977 - val_loss: 0.4222 - val_accuracy: 0.9095\n",
            "Epoch 3/10\n",
            "250/250 [==============================] - 3s 13ms/step - loss: 0.0187 - accuracy: 0.9945 - val_loss: 1.5448 - val_accuracy: 0.7520\n",
            "Epoch 4/10\n",
            "250/250 [==============================] - 3s 13ms/step - loss: 0.0320 - accuracy: 0.9900 - val_loss: 0.2599 - val_accuracy: 0.9670\n",
            "Epoch 5/10\n",
            "250/250 [==============================] - 3s 12ms/step - loss: 0.0201 - accuracy: 0.9940 - val_loss: 0.2655 - val_accuracy: 0.9715\n",
            "Epoch 6/10\n",
            "250/250 [==============================] - 3s 12ms/step - loss: 0.0092 - accuracy: 0.9973 - val_loss: 0.2259 - val_accuracy: 0.9800\n",
            "Epoch 7/10\n",
            "250/250 [==============================] - 3s 13ms/step - loss: 0.0085 - accuracy: 0.9977 - val_loss: 0.2488 - val_accuracy: 0.9525\n",
            "Epoch 8/10\n",
            "250/250 [==============================] - 3s 12ms/step - loss: 0.0077 - accuracy: 0.9971 - val_loss: 0.2552 - val_accuracy: 0.9750\n",
            "Epoch 9/10\n",
            "250/250 [==============================] - 3s 12ms/step - loss: 0.0134 - accuracy: 0.9962 - val_loss: 0.2973 - val_accuracy: 0.9560\n",
            "Epoch 10/10\n",
            "250/250 [==============================] - 3s 12ms/step - loss: 0.0148 - accuracy: 0.9955 - val_loss: 0.3334 - val_accuracy: 0.9525\n"
          ]
        },
        {
          "output_type": "execute_result",
          "data": {
            "text/plain": [
              "<keras.callbacks.History at 0x7f90b6fb1e50>"
            ]
          },
          "metadata": {},
          "execution_count": 10
        }
      ]
    },
    {
      "cell_type": "code",
      "source": [
        "pred = model.predict(X).argmax(axis=1)\n",
        "print('Accuracy on train set - {0:.02%}'.format((pred == y).mean()))"
      ],
      "metadata": {
        "colab": {
          "base_uri": "https://localhost:8080/"
        },
        "id": "3k7EihtYbALf",
        "outputId": "d09fab3d-5d4e-41b7-fbdb-76bf1868dc4a"
      },
      "execution_count": 11,
      "outputs": [
        {
          "output_type": "stream",
          "name": "stdout",
          "text": [
            "Accuracy on train set - 98.31%\n"
          ]
        }
      ]
    },
    {
      "cell_type": "code",
      "source": [
        "model.save('model.h5')"
      ],
      "metadata": {
        "id": "mvYvbpH2bCj1"
      },
      "execution_count": 12,
      "outputs": []
    },
    {
      "cell_type": "code",
      "source": [
        "def evaluate(path, model):\n",
        "    X, y = pickle.load(gzip.open(path, 'rb'))\n",
        "    y[y != 0] -= 2\n",
        "    X = X / 255.\n",
        "    acc = np.mean(model(X).numpy().argmax(axis=1) == y)\n",
        "    return acc\n",
        "\n",
        "model = keras.models.load_model('model.h5')\n",
        "evaluate('/content/drive/MyDrive/Projektas/flatland_train.data', model)"
      ],
      "metadata": {
        "colab": {
          "base_uri": "https://localhost:8080/"
        },
        "id": "1vHXS5gncO5_",
        "outputId": "36da835e-267a-4b41-c408-e5a8d3fd270c"
      },
      "execution_count": 13,
      "outputs": [
        {
          "output_type": "execute_result",
          "data": {
            "text/plain": [
              "0.9831"
            ]
          },
          "metadata": {},
          "execution_count": 13
        }
      ]
    }
  ]
}