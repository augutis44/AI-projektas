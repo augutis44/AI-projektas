{
  "nbformat": 4,
  "nbformat_minor": 0,
  "metadata": {
    "colab": {
      "name": "Untitled3.ipynb",
      "provenance": [],
      "mount_file_id": "1z3eHtUlI1d7ylspIal6MuyDE_mVVF6HA",
      "authorship_tag": "ABX9TyPdnufYrMvIdTOWS73SRZZy",
      "include_colab_link": true
    },
    "kernelspec": {
      "name": "python3",
      "display_name": "Python 3"
    },
    "language_info": {
      "name": "python"
    },
    "accelerator": "GPU"
  },
  "cells": [
    {
      "cell_type": "markdown",
      "metadata": {
        "id": "view-in-github",
        "colab_type": "text"
      },
      "source": [
        "<a href=\"https://colab.research.google.com/github/augutis44/AI-projektas/blob/main/tvarkymas1.ipynb\" target=\"_parent\"><img src=\"https://colab.research.google.com/assets/colab-badge.svg\" alt=\"Open In Colab\"/></a>"
      ]
    },
    {
      "cell_type": "code",
      "execution_count": 5,
      "metadata": {
        "id": "8NI-R6MWWTmt"
      },
      "outputs": [],
      "source": [
        "import gzip\n",
        "import pickle\n",
        "import time\n",
        "import os\n",
        "import numpy as np\n",
        "from tensorflow import keras\n",
        "from datetime import datetime\n",
        "from tensorflow.keras.layers import Conv2D, Dense\n",
        "from tensorflow.keras.callbacks import TensorBoard\n",
        "from sklearn.model_selection import train_test_split"
      ]
    },
    {
      "cell_type": "code",
      "source": [
        "from google.colab import drive\n",
        "drive.mount('/content/drive')"
      ],
      "metadata": {
        "id": "trBHZ5nFc8bi",
        "outputId": "9dc01404-db39-4093-cf79-9229467a5f0d",
        "colab": {
          "base_uri": "https://localhost:8080/"
        }
      },
      "execution_count": 2,
      "outputs": [
        {
          "output_type": "stream",
          "name": "stdout",
          "text": [
            "Mounted at /content/drive\n"
          ]
        }
      ]
    },
    {
      "cell_type": "code",
      "source": [
        "X,y = pickle.load(gzip.open('/content/drive/MyDrive/Projektas/flatland_train.data','rb'))\n",
        "y[y != 0] -= 2\n",
        "X = X.reshape(X.shape[0], 50, 50, 1) / 255.0"
      ],
      "metadata": {
        "id": "9JY7sGYVWWmO"
      },
      "execution_count": 3,
      "outputs": []
    },
    {
      "cell_type": "code",
      "source": [
        "X_train, X_test, y_train, y_test = train_test_split(\n",
        "X, y, test_size=0.33, random_state=42)"
      ],
      "metadata": {
        "id": "qj-qInA4cpAR"
      },
      "execution_count": 6,
      "outputs": []
    },
    {
      "cell_type": "code",
      "source": [
        "model = keras.models.Sequential()\n",
        "# Any pre-processing/re-shaping should be implemented using keras\n",
        "model.add(keras.layers.Flatten(input_shape=[50, 50]))\n",
        "model.add(keras.layers.Dense(20, activation='relu'))\n",
        "model.add(keras.layers.Dense(5, activation='softmax'))\n",
        "model.compile(loss=\"sparse_categorical_crossentropy\",\n",
        "              optimizer=\"sgd\",\n",
        "              metrics=[\"accuracy\"])"
      ],
      "metadata": {
        "id": "kptsfUfmWf97"
      },
      "execution_count": 8,
      "outputs": []
    },
    {
      "cell_type": "code",
      "source": [
        "model.fit(X_train, y_train, epochs=20)"
      ],
      "metadata": {
        "colab": {
          "base_uri": "https://localhost:8080/"
        },
        "id": "L4Aff5IfWhoN",
        "outputId": "19c6a537-6192-461e-8f0a-eafd863dad71"
      },
      "execution_count": 14,
      "outputs": [
        {
          "output_type": "stream",
          "name": "stdout",
          "text": [
            "Epoch 1/20\n",
            "210/210 [==============================] - 2s 10ms/step - loss: 1.5964 - accuracy: 0.2834\n",
            "Epoch 2/20\n",
            "210/210 [==============================] - 2s 10ms/step - loss: 1.5794 - accuracy: 0.2878\n",
            "Epoch 3/20\n",
            "210/210 [==============================] - 2s 10ms/step - loss: 1.5786 - accuracy: 0.2878\n",
            "Epoch 4/20\n",
            "210/210 [==============================] - 2s 10ms/step - loss: 1.5793 - accuracy: 0.2878\n",
            "Epoch 5/20\n",
            "210/210 [==============================] - 2s 10ms/step - loss: 1.5785 - accuracy: 0.2878\n",
            "Epoch 6/20\n",
            "210/210 [==============================] - 2s 10ms/step - loss: 1.5780 - accuracy: 0.2878\n",
            "Epoch 7/20\n",
            "210/210 [==============================] - 2s 10ms/step - loss: 1.5784 - accuracy: 0.2878\n",
            "Epoch 8/20\n",
            "210/210 [==============================] - 2s 10ms/step - loss: 1.5780 - accuracy: 0.2878\n",
            "Epoch 9/20\n",
            "210/210 [==============================] - 2s 10ms/step - loss: 1.5782 - accuracy: 0.2878\n",
            "Epoch 10/20\n",
            "210/210 [==============================] - 2s 10ms/step - loss: 1.5778 - accuracy: 0.2878\n",
            "Epoch 11/20\n",
            "210/210 [==============================] - 2s 10ms/step - loss: 1.5780 - accuracy: 0.2878\n",
            "Epoch 12/20\n",
            "210/210 [==============================] - 2s 10ms/step - loss: 1.5783 - accuracy: 0.2878\n",
            "Epoch 13/20\n",
            "210/210 [==============================] - 2s 10ms/step - loss: 1.5792 - accuracy: 0.2878\n",
            "Epoch 14/20\n",
            "210/210 [==============================] - 2s 10ms/step - loss: 1.5789 - accuracy: 0.2878\n",
            "Epoch 15/20\n",
            "210/210 [==============================] - 2s 10ms/step - loss: 1.5786 - accuracy: 0.2878\n",
            "Epoch 16/20\n",
            "210/210 [==============================] - 2s 10ms/step - loss: 1.5781 - accuracy: 0.2878\n",
            "Epoch 17/20\n",
            "210/210 [==============================] - 2s 10ms/step - loss: 1.5773 - accuracy: 0.2878\n",
            "Epoch 18/20\n",
            "210/210 [==============================] - 2s 10ms/step - loss: 1.5781 - accuracy: 0.2878\n",
            "Epoch 19/20\n",
            "210/210 [==============================] - 2s 10ms/step - loss: 1.5779 - accuracy: 0.2878\n",
            "Epoch 20/20\n",
            "210/210 [==============================] - 2s 10ms/step - loss: 1.5778 - accuracy: 0.2878\n"
          ]
        },
        {
          "output_type": "execute_result",
          "data": {
            "text/plain": [
              "<keras.callbacks.History at 0x7fe1e5b7fe90>"
            ]
          },
          "metadata": {},
          "execution_count": 14
        }
      ]
    },
    {
      "cell_type": "code",
      "source": [
        "model = keras.models.Sequential()\n",
        "model.add(keras.layers.Conv2D(32, kernel_size=(3, 3), input_shape=[50, 50, 1]))\n",
        "model.add(keras.layers.BatchNormalization(axis=-1))   \n",
        "model.add(keras.layers.Activation(\"relu\"))            \n",
        "model.add(keras.layers.Conv2D(32, (3, 3), activation='relu'))\n",
        "model.add(keras.layers.BatchNormalization(axis=-1))\n",
        "model.add(keras.layers.Activation(\"relu\"))\n",
        "model.add(keras.layers.MaxPooling2D(pool_size=(2, 2)))\n",
        "model.add(keras.layers.BatchNormalization(axis=-1))\n",
        "model.add(keras.layers.Flatten())\n",
        "model.add(keras.layers.Dense(64, activation='relu'))\n",
        "model.add(keras.layers.Dense(5, activation='softmax'))\n",
        "\n",
        "model.compile(loss=\"sparse_categorical_crossentropy\",\n",
        "              optimizer=\"Adam\",\n",
        "              metrics=[\"accuracy\"])\n",
        "model.summary()"
      ],
      "metadata": {
        "colab": {
          "base_uri": "https://localhost:8080/"
        },
        "id": "rDbQkYBmWnBd",
        "outputId": "d1efce53-5afb-4638-824f-9ff37b639a0d"
      },
      "execution_count": 15,
      "outputs": [
        {
          "output_type": "stream",
          "name": "stdout",
          "text": [
            "Model: \"sequential_3\"\n",
            "_________________________________________________________________\n",
            " Layer (type)                Output Shape              Param #   \n",
            "=================================================================\n",
            " conv2d_4 (Conv2D)           (None, 48, 48, 32)        320       \n",
            "                                                                 \n",
            " batch_normalization_5 (Batc  (None, 48, 48, 32)       128       \n",
            " hNormalization)                                                 \n",
            "                                                                 \n",
            " activation_2 (Activation)   (None, 48, 48, 32)        0         \n",
            "                                                                 \n",
            " conv2d_5 (Conv2D)           (None, 46, 46, 32)        9248      \n",
            "                                                                 \n",
            " batch_normalization_6 (Batc  (None, 46, 46, 32)       128       \n",
            " hNormalization)                                                 \n",
            "                                                                 \n",
            " activation_3 (Activation)   (None, 46, 46, 32)        0         \n",
            "                                                                 \n",
            " max_pooling2d_3 (MaxPooling  (None, 23, 23, 32)       0         \n",
            " 2D)                                                             \n",
            "                                                                 \n",
            " batch_normalization_7 (Batc  (None, 23, 23, 32)       128       \n",
            " hNormalization)                                                 \n",
            "                                                                 \n",
            " flatten_3 (Flatten)         (None, 16928)             0         \n",
            "                                                                 \n",
            " dense_7 (Dense)             (None, 64)                1083456   \n",
            "                                                                 \n",
            " dense_8 (Dense)             (None, 5)                 325       \n",
            "                                                                 \n",
            "=================================================================\n",
            "Total params: 1,093,733\n",
            "Trainable params: 1,093,541\n",
            "Non-trainable params: 192\n",
            "_________________________________________________________________\n"
          ]
        }
      ]
    },
    {
      "cell_type": "code",
      "source": [
        "model.fit(X_train, y_train, epochs=20)"
      ],
      "metadata": {
        "colab": {
          "base_uri": "https://localhost:8080/"
        },
        "id": "5DGLMLTVWqLt",
        "outputId": "bcf74779-5cc4-4f8c-8c2b-6896b1b44363"
      },
      "execution_count": 16,
      "outputs": [
        {
          "output_type": "stream",
          "name": "stdout",
          "text": [
            "Epoch 1/20\n",
            "210/210 [==============================] - 4s 13ms/step - loss: 1.0907 - accuracy: 0.5625\n",
            "Epoch 2/20\n",
            "210/210 [==============================] - 3s 13ms/step - loss: 0.4815 - accuracy: 0.8278\n",
            "Epoch 3/20\n",
            "210/210 [==============================] - 3s 13ms/step - loss: 0.2454 - accuracy: 0.9304\n",
            "Epoch 4/20\n",
            "210/210 [==============================] - 3s 13ms/step - loss: 0.1174 - accuracy: 0.9710\n",
            "Epoch 5/20\n",
            "210/210 [==============================] - 3s 13ms/step - loss: 0.0612 - accuracy: 0.9839\n",
            "Epoch 6/20\n",
            "210/210 [==============================] - 3s 13ms/step - loss: 0.0293 - accuracy: 0.9942\n",
            "Epoch 7/20\n",
            "210/210 [==============================] - 3s 14ms/step - loss: 0.0258 - accuracy: 0.9939\n",
            "Epoch 8/20\n",
            "210/210 [==============================] - 3s 13ms/step - loss: 0.0214 - accuracy: 0.9951\n",
            "Epoch 9/20\n",
            "210/210 [==============================] - 3s 13ms/step - loss: 0.0188 - accuracy: 0.9955\n",
            "Epoch 10/20\n",
            "210/210 [==============================] - 3s 13ms/step - loss: 0.0117 - accuracy: 0.9975\n",
            "Epoch 11/20\n",
            "210/210 [==============================] - 3s 13ms/step - loss: 0.0147 - accuracy: 0.9970\n",
            "Epoch 12/20\n",
            "210/210 [==============================] - 3s 13ms/step - loss: 0.0182 - accuracy: 0.9955\n",
            "Epoch 13/20\n",
            "210/210 [==============================] - 3s 13ms/step - loss: 0.0680 - accuracy: 0.9799\n",
            "Epoch 14/20\n",
            "210/210 [==============================] - 3s 13ms/step - loss: 0.0679 - accuracy: 0.9796\n",
            "Epoch 15/20\n",
            "210/210 [==============================] - 3s 13ms/step - loss: 0.0226 - accuracy: 0.9946\n",
            "Epoch 16/20\n",
            "210/210 [==============================] - 3s 13ms/step - loss: 0.0067 - accuracy: 0.9984\n",
            "Epoch 17/20\n",
            "210/210 [==============================] - 3s 13ms/step - loss: 0.0022 - accuracy: 0.9996\n",
            "Epoch 18/20\n",
            "210/210 [==============================] - 3s 13ms/step - loss: 6.1359e-04 - accuracy: 0.9999\n",
            "Epoch 19/20\n",
            "210/210 [==============================] - 3s 13ms/step - loss: 2.9834e-04 - accuracy: 1.0000\n",
            "Epoch 20/20\n",
            "210/210 [==============================] - 3s 13ms/step - loss: 2.2159e-04 - accuracy: 1.0000\n"
          ]
        },
        {
          "output_type": "execute_result",
          "data": {
            "text/plain": [
              "<keras.callbacks.History at 0x7fe1e5b07250>"
            ]
          },
          "metadata": {},
          "execution_count": 16
        }
      ]
    },
    {
      "cell_type": "code",
      "source": [
        "model = keras.models.Sequential()\n",
        "model.add(keras.layers.Conv2D(32, kernel_size=(3, 3), activation='relu', input_shape=[50, 50, 1])) \n",
        "model.add(keras.layers.BatchNormalization(axis=-1)) \n",
        "model.add(keras.layers.MaxPooling2D(pool_size=(2, 2)))\n",
        "model.add(keras.layers.Conv2D(32, kernel_size=(3, 3), activation='relu'))  \n",
        "model.add(keras.layers.MaxPooling2D(pool_size=(2, 2)))\n",
        "model.add(keras.layers.BatchNormalization(axis=-1))\n",
        "model.add(keras.layers.Flatten())\n",
        "model.add(keras.layers.Dense(64, activation='relu'))\n",
        "model.add(keras.layers.Dense(10, activation='relu'))\n",
        "model.add(keras.layers.Dense(5, activation='softmax'))\n",
        "model.compile(loss=\"sparse_categorical_crossentropy\",\n",
        "              optimizer=\"Adam\",\n",
        "              metrics=[\"accuracy\"])\n",
        "model.summary()"
      ],
      "metadata": {
        "colab": {
          "base_uri": "https://localhost:8080/"
        },
        "id": "ylO2K3M3a4_7",
        "outputId": "0e5302c4-fc64-4333-f2ff-023a0c2df244"
      },
      "execution_count": 17,
      "outputs": [
        {
          "output_type": "stream",
          "name": "stdout",
          "text": [
            "Model: \"sequential_4\"\n",
            "_________________________________________________________________\n",
            " Layer (type)                Output Shape              Param #   \n",
            "=================================================================\n",
            " conv2d_6 (Conv2D)           (None, 48, 48, 32)        320       \n",
            "                                                                 \n",
            " batch_normalization_8 (Batc  (None, 48, 48, 32)       128       \n",
            " hNormalization)                                                 \n",
            "                                                                 \n",
            " max_pooling2d_4 (MaxPooling  (None, 24, 24, 32)       0         \n",
            " 2D)                                                             \n",
            "                                                                 \n",
            " conv2d_7 (Conv2D)           (None, 22, 22, 32)        9248      \n",
            "                                                                 \n",
            " max_pooling2d_5 (MaxPooling  (None, 11, 11, 32)       0         \n",
            " 2D)                                                             \n",
            "                                                                 \n",
            " batch_normalization_9 (Batc  (None, 11, 11, 32)       128       \n",
            " hNormalization)                                                 \n",
            "                                                                 \n",
            " flatten_4 (Flatten)         (None, 3872)              0         \n",
            "                                                                 \n",
            " dense_9 (Dense)             (None, 64)                247872    \n",
            "                                                                 \n",
            " dense_10 (Dense)            (None, 10)                650       \n",
            "                                                                 \n",
            " dense_11 (Dense)            (None, 5)                 55        \n",
            "                                                                 \n",
            "=================================================================\n",
            "Total params: 258,401\n",
            "Trainable params: 258,273\n",
            "Non-trainable params: 128\n",
            "_________________________________________________________________\n"
          ]
        }
      ]
    },
    {
      "cell_type": "code",
      "source": [
        "model.fit(X_train, y_train, epochs=10)"
      ],
      "metadata": {
        "colab": {
          "base_uri": "https://localhost:8080/"
        },
        "id": "qGLsTKgka9pz",
        "outputId": "2d8c7bca-04e5-4c9f-c669-385f6c362245"
      },
      "execution_count": 18,
      "outputs": [
        {
          "output_type": "stream",
          "name": "stdout",
          "text": [
            "Epoch 1/10\n",
            "210/210 [==============================] - 4s 10ms/step - loss: 1.2136 - accuracy: 0.4903\n",
            "Epoch 2/10\n",
            "210/210 [==============================] - 2s 10ms/step - loss: 0.9708 - accuracy: 0.5849\n",
            "Epoch 3/10\n",
            "210/210 [==============================] - 2s 10ms/step - loss: 0.7895 - accuracy: 0.6775\n",
            "Epoch 4/10\n",
            "210/210 [==============================] - 2s 10ms/step - loss: 0.6058 - accuracy: 0.7694\n",
            "Epoch 5/10\n",
            "210/210 [==============================] - 2s 10ms/step - loss: 0.4299 - accuracy: 0.8479\n",
            "Epoch 6/10\n",
            "210/210 [==============================] - 2s 10ms/step - loss: 0.3038 - accuracy: 0.9034\n",
            "Epoch 7/10\n",
            "210/210 [==============================] - 2s 10ms/step - loss: 0.2110 - accuracy: 0.9352\n",
            "Epoch 8/10\n",
            "210/210 [==============================] - 2s 10ms/step - loss: 0.1475 - accuracy: 0.9537\n",
            "Epoch 9/10\n",
            "210/210 [==============================] - 2s 10ms/step - loss: 0.1114 - accuracy: 0.9669\n",
            "Epoch 10/10\n",
            "210/210 [==============================] - 2s 10ms/step - loss: 0.0663 - accuracy: 0.9812\n"
          ]
        },
        {
          "output_type": "execute_result",
          "data": {
            "text/plain": [
              "<keras.callbacks.History at 0x7fe1e598c850>"
            ]
          },
          "metadata": {},
          "execution_count": 18
        }
      ]
    },
    {
      "cell_type": "code",
      "source": [
        "pred = model.predict(X_test).argmax(axis=1)\n",
        "print('Accuracy on train set - {0:.02%}'.format((pred == y_test).mean()))"
      ],
      "metadata": {
        "colab": {
          "base_uri": "https://localhost:8080/"
        },
        "id": "3k7EihtYbALf",
        "outputId": "433e20fd-471d-4428-8604-463b1e99f09b"
      },
      "execution_count": 25,
      "outputs": [
        {
          "output_type": "stream",
          "name": "stdout",
          "text": [
            "Accuracy on train set - 15.03%\n"
          ]
        }
      ]
    },
    {
      "cell_type": "code",
      "source": [
        "model.save('model.h5')"
      ],
      "metadata": {
        "id": "mvYvbpH2bCj1"
      },
      "execution_count": 26,
      "outputs": []
    },
    {
      "cell_type": "code",
      "source": [
        "def evaluate(path, model):\n",
        "    X, y = pickle.load(gzip.open(path, 'rb'))\n",
        "    y[y != 0] -= 2\n",
        "    X = X / 255.\n",
        "    acc = np.mean(model(X_test).numpy().argmax(axis=1) == y_test)\n",
        "    return acc\n",
        "\n",
        "model = keras.models.load_model('model.h5')\n",
        "evaluate('/content/drive/MyDrive/Projektas/flatland_train.data', model)"
      ],
      "metadata": {
        "colab": {
          "base_uri": "https://localhost:8080/"
        },
        "id": "1vHXS5gncO5_",
        "outputId": "56ad0111-0584-452d-ed81-20e20885d131"
      },
      "execution_count": 27,
      "outputs": [
        {
          "output_type": "execute_result",
          "data": {
            "text/plain": [
              "0.1503030303030303"
            ]
          },
          "metadata": {},
          "execution_count": 27
        }
      ]
    }
  ]
}