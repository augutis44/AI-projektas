{
  "nbformat": 4,
  "nbformat_minor": 0,
  "metadata": {
    "colab": {
      "name": "„„Untitled2.ipynb“ kopija“ kopija",
      "provenance": [],
      "mount_file_id": "1B2x-ftkgLu-gKCLi0n198fEHcPDVIyon",
      "authorship_tag": "ABX9TyNfZI0y1zCjhU44Wudiajax",
      "include_colab_link": true
    },
    "kernelspec": {
      "name": "python3",
      "display_name": "Python 3"
    },
    "language_info": {
      "name": "python"
    },
    "accelerator": "GPU"
  },
  "cells": [
    {
      "cell_type": "markdown",
      "metadata": {
        "id": "view-in-github",
        "colab_type": "text"
      },
      "source": [
        "<a href=\"https://colab.research.google.com/github/augutis44/AI-projektas/blob/main/%E2%80%9E%E2%80%9EUntitled2_ipynb%E2%80%9C_kopija%E2%80%9C_kopija.ipynb\" target=\"_parent\"><img src=\"https://colab.research.google.com/assets/colab-badge.svg\" alt=\"Open In Colab\"/></a>"
      ]
    },
    {
      "cell_type": "code",
      "execution_count": 1,
      "metadata": {
        "id": "Hn3fyOCwgAx4"
      },
      "outputs": [],
      "source": [
        "import gzip\n",
        "import pickle\n",
        "import numpy as np\n",
        "from tensorflow import keras\n",
        "import tensorflow.keras as keras\n",
        "from sklearn.model_selection import train_test_split\n",
        "import os\n",
        "import time\n",
        "import pandas as pd\n",
        "import matplotlib.pyplot as plt\n",
        "from tensorflow.keras.layers import Dense, Input, Flatten, Conv2D, BatchNormalization, Activation, Dropout, MaxPooling2D\n",
        "from tensorflow.keras.models import Sequential\n",
        "from tensorflow.keras.optimizers import Adam\n",
        "from tensorflow.keras.callbacks import TensorBoard"
      ]
    },
    {
      "cell_type": "code",
      "source": [
        "path = '/content/drive/MyDrive/Projektas/flatland_train.data'\n",
        "X, y = pickle.load(gzip.open(path, 'rb'))\n",
        "\n",
        "y[y != 0] -= 2     # Fix labels to run from 0 to 4\n",
        "X = X.reshape(X.shape[0], 50, 50, 1) / 255.0     # Scale input to range [0, 1]"
      ],
      "metadata": {
        "id": "GRCpP8noFG2z"
      },
      "execution_count": 2,
      "outputs": []
    },
    {
      "cell_type": "code",
      "source": [
        "X_train, X_test, y_train, y_test = train_test_split(\n",
        "X, y, test_size=0.33, random_state=42)"
      ],
      "metadata": {
        "id": "VFbR7FSsElqK"
      },
      "execution_count": 3,
      "outputs": []
    },
    {
      "cell_type": "code",
      "source": [
        "# Normalize (note that we add channel)\n",
        "X_train = X_train.reshape(X_train.shape[0], 50, 50, 1) / 255\n",
        "X_test = X_test.reshape(X_test.shape[0], 50, 50, 1) / 255\n"
      ],
      "metadata": {
        "id": "PBkSSk86BCrx"
      },
      "execution_count": 4,
      "outputs": []
    },
    {
      "cell_type": "code",
      "source": [
        "model = keras.models.Sequential()\n",
        "model.add(keras.layers.Flatten(input_shape=[50, 50, 1]))\n",
        "model.add(keras.layers.Dense(20, activation=\"relu\"))\n",
        "model.add(keras.layers.Dense(5, activation=\"softmax\"))\n",
        "model.compile(loss=\"sparse_categorical_crossentropy\",\n",
        "              optimizer=\"sgd\",\n",
        "              metrics=[\"accuracy\"])\n",
        "model.summary()"
      ],
      "metadata": {
        "colab": {
          "base_uri": "https://localhost:8080/"
        },
        "id": "lIA31P8WCuq-",
        "outputId": "04d16771-afab-4fb6-e186-f270f79471af"
      },
      "execution_count": 5,
      "outputs": [
        {
          "output_type": "stream",
          "name": "stdout",
          "text": [
            "Model: \"sequential\"\n",
            "_________________________________________________________________\n",
            " Layer (type)                Output Shape              Param #   \n",
            "=================================================================\n",
            " flatten (Flatten)           (None, 2500)              0         \n",
            "                                                                 \n",
            " dense (Dense)               (None, 20)                50020     \n",
            "                                                                 \n",
            " dense_1 (Dense)             (None, 5)                 105       \n",
            "                                                                 \n",
            "=================================================================\n",
            "Total params: 50,125\n",
            "Trainable params: 50,125\n",
            "Non-trainable params: 0\n",
            "_________________________________________________________________\n"
          ]
        }
      ]
    },
    {
      "cell_type": "code",
      "source": [
        "model.fit(X_train, y_train, epochs=20, validation_split=0.2)"
      ],
      "metadata": {
        "colab": {
          "base_uri": "https://localhost:8080/"
        },
        "id": "6FRKRg4j_ny8",
        "outputId": "70a4802f-0637-46ad-d45a-e86a9c3946d1"
      },
      "execution_count": 8,
      "outputs": [
        {
          "output_type": "stream",
          "name": "stdout",
          "text": [
            "Epoch 1/20\n",
            "168/168 [==============================] - 1s 5ms/step - loss: 1.5746 - accuracy: 0.2847 - val_loss: 1.5580 - val_accuracy: 0.3000\n",
            "Epoch 2/20\n",
            "168/168 [==============================] - 1s 4ms/step - loss: 1.5744 - accuracy: 0.2847 - val_loss: 1.5580 - val_accuracy: 0.3000\n",
            "Epoch 3/20\n",
            "168/168 [==============================] - 1s 4ms/step - loss: 1.5743 - accuracy: 0.2847 - val_loss: 1.5578 - val_accuracy: 0.3000\n",
            "Epoch 4/20\n",
            "168/168 [==============================] - 1s 5ms/step - loss: 1.5741 - accuracy: 0.2847 - val_loss: 1.5573 - val_accuracy: 0.3000\n",
            "Epoch 5/20\n",
            "168/168 [==============================] - 1s 4ms/step - loss: 1.5739 - accuracy: 0.2847 - val_loss: 1.5573 - val_accuracy: 0.3000\n",
            "Epoch 6/20\n",
            "168/168 [==============================] - 1s 4ms/step - loss: 1.5737 - accuracy: 0.2847 - val_loss: 1.5570 - val_accuracy: 0.3000\n",
            "Epoch 7/20\n",
            "168/168 [==============================] - 1s 4ms/step - loss: 1.5734 - accuracy: 0.2847 - val_loss: 1.5567 - val_accuracy: 0.3000\n",
            "Epoch 8/20\n",
            "168/168 [==============================] - 1s 4ms/step - loss: 1.5732 - accuracy: 0.2847 - val_loss: 1.5567 - val_accuracy: 0.3000\n",
            "Epoch 9/20\n",
            "168/168 [==============================] - 1s 4ms/step - loss: 1.5730 - accuracy: 0.2847 - val_loss: 1.5565 - val_accuracy: 0.3000\n",
            "Epoch 10/20\n",
            "168/168 [==============================] - 1s 4ms/step - loss: 1.5727 - accuracy: 0.2847 - val_loss: 1.5563 - val_accuracy: 0.3000\n",
            "Epoch 11/20\n",
            "168/168 [==============================] - 1s 4ms/step - loss: 1.5726 - accuracy: 0.2847 - val_loss: 1.5560 - val_accuracy: 0.3000\n",
            "Epoch 12/20\n",
            "168/168 [==============================] - 1s 4ms/step - loss: 1.5723 - accuracy: 0.2847 - val_loss: 1.5558 - val_accuracy: 0.3000\n",
            "Epoch 13/20\n",
            "168/168 [==============================] - 1s 4ms/step - loss: 1.5721 - accuracy: 0.2847 - val_loss: 1.5556 - val_accuracy: 0.3000\n",
            "Epoch 14/20\n",
            "168/168 [==============================] - 1s 4ms/step - loss: 1.5718 - accuracy: 0.2847 - val_loss: 1.5555 - val_accuracy: 0.3000\n",
            "Epoch 15/20\n",
            "168/168 [==============================] - 1s 4ms/step - loss: 1.5716 - accuracy: 0.2847 - val_loss: 1.5550 - val_accuracy: 0.3000\n",
            "Epoch 16/20\n",
            "168/168 [==============================] - 1s 4ms/step - loss: 1.5714 - accuracy: 0.2847 - val_loss: 1.5548 - val_accuracy: 0.3000\n",
            "Epoch 17/20\n",
            "168/168 [==============================] - 1s 4ms/step - loss: 1.5711 - accuracy: 0.2847 - val_loss: 1.5547 - val_accuracy: 0.3000\n",
            "Epoch 18/20\n",
            "168/168 [==============================] - 1s 4ms/step - loss: 1.5708 - accuracy: 0.2847 - val_loss: 1.5543 - val_accuracy: 0.3000\n",
            "Epoch 19/20\n",
            "168/168 [==============================] - 1s 4ms/step - loss: 1.5705 - accuracy: 0.2847 - val_loss: 1.5539 - val_accuracy: 0.3000\n",
            "Epoch 20/20\n",
            "168/168 [==============================] - 1s 4ms/step - loss: 1.5702 - accuracy: 0.2847 - val_loss: 1.5537 - val_accuracy: 0.3000\n"
          ]
        },
        {
          "output_type": "execute_result",
          "data": {
            "text/plain": [
              "<keras.callbacks.History at 0x7f3bf025e350>"
            ]
          },
          "metadata": {},
          "execution_count": 8
        }
      ]
    },
    {
      "cell_type": "code",
      "source": [
        "model = Sequential()\n",
        "model.add(Conv2D(32, kernel_size=(3, 3), input_shape=[50, 50, 1]))\n",
        "model.add(BatchNormalization(axis=-1))   # Axis -1 is always the features axis\n",
        "model.add(Activation(\"relu\"))\n",
        "model.add(Conv2D(32, (3, 3), activation='relu'))\n",
        "model.add(BatchNormalization(axis=-1))\n",
        "model.add(Activation(\"relu\"))\n",
        "model.add(MaxPooling2D(pool_size=(2, 2)))\n",
        "model.add(BatchNormalization(axis=-1))\n",
        "model.add(Flatten())\n",
        "model.add(Dense(64, activation='relu'))\n",
        "model.add(Dense(5, activation='softmax'))\n",
        "\n",
        "model.compile(loss=\"sparse_categorical_crossentropy\",\n",
        "              optimizer=keras.optimizers.Adadelta(),\n",
        "              metrics=[\"accuracy\"])\n",
        "model.summary()"
      ],
      "metadata": {
        "id": "X68cAoXxNDFj",
        "outputId": "ed8aa723-512f-40ce-c674-1c1640153b6b",
        "colab": {
          "base_uri": "https://localhost:8080/"
        }
      },
      "execution_count": 9,
      "outputs": [
        {
          "output_type": "stream",
          "name": "stdout",
          "text": [
            "Model: \"sequential_1\"\n",
            "_________________________________________________________________\n",
            " Layer (type)                Output Shape              Param #   \n",
            "=================================================================\n",
            " conv2d (Conv2D)             (None, 48, 48, 32)        320       \n",
            "                                                                 \n",
            " batch_normalization (BatchN  (None, 48, 48, 32)       128       \n",
            " ormalization)                                                   \n",
            "                                                                 \n",
            " activation (Activation)     (None, 48, 48, 32)        0         \n",
            "                                                                 \n",
            " conv2d_1 (Conv2D)           (None, 46, 46, 32)        9248      \n",
            "                                                                 \n",
            " batch_normalization_1 (Batc  (None, 46, 46, 32)       128       \n",
            " hNormalization)                                                 \n",
            "                                                                 \n",
            " activation_1 (Activation)   (None, 46, 46, 32)        0         \n",
            "                                                                 \n",
            " max_pooling2d (MaxPooling2D  (None, 23, 23, 32)       0         \n",
            " )                                                               \n",
            "                                                                 \n",
            " batch_normalization_2 (Batc  (None, 23, 23, 32)       128       \n",
            " hNormalization)                                                 \n",
            "                                                                 \n",
            " flatten_1 (Flatten)         (None, 16928)             0         \n",
            "                                                                 \n",
            " dense_2 (Dense)             (None, 64)                1083456   \n",
            "                                                                 \n",
            " dense_3 (Dense)             (None, 5)                 325       \n",
            "                                                                 \n",
            "=================================================================\n",
            "Total params: 1,093,733\n",
            "Trainable params: 1,093,541\n",
            "Non-trainable params: 192\n",
            "_________________________________________________________________\n"
          ]
        }
      ]
    },
    {
      "cell_type": "code",
      "source": [
        "model.fit(X_train, y_train, epochs=100, batch_size=64, validation_split=0.2)"
      ],
      "metadata": {
        "colab": {
          "base_uri": "https://localhost:8080/"
        },
        "id": "gfEOU_urF5xB",
        "outputId": "06e5ddfa-1f10-4c1f-e1f7-21c103415a14"
      },
      "execution_count": 10,
      "outputs": [
        {
          "output_type": "stream",
          "name": "stdout",
          "text": [
            "Epoch 1/100\n",
            "84/84 [==============================] - 11s 28ms/step - loss: 1.8626 - accuracy: 0.2823 - val_loss: 1.5836 - val_accuracy: 0.3000\n",
            "Epoch 2/100\n",
            "84/84 [==============================] - 2s 22ms/step - loss: 1.6390 - accuracy: 0.3276 - val_loss: 1.5692 - val_accuracy: 0.3000\n",
            "Epoch 3/100\n",
            "84/84 [==============================] - 2s 23ms/step - loss: 1.5384 - accuracy: 0.3625 - val_loss: 1.5831 - val_accuracy: 0.3000\n",
            "Epoch 4/100\n",
            "84/84 [==============================] - 2s 24ms/step - loss: 1.4741 - accuracy: 0.3931 - val_loss: 1.6421 - val_accuracy: 0.3000\n",
            "Epoch 5/100\n",
            "84/84 [==============================] - 2s 23ms/step - loss: 1.4268 - accuracy: 0.4075 - val_loss: 1.7290 - val_accuracy: 0.3000\n",
            "Epoch 6/100\n",
            "84/84 [==============================] - 2s 22ms/step - loss: 1.3880 - accuracy: 0.4259 - val_loss: 1.7718 - val_accuracy: 0.3000\n",
            "Epoch 7/100\n",
            "84/84 [==============================] - 2s 24ms/step - loss: 1.3562 - accuracy: 0.4409 - val_loss: 1.6893 - val_accuracy: 0.3007\n",
            "Epoch 8/100\n",
            "84/84 [==============================] - 2s 24ms/step - loss: 1.3278 - accuracy: 0.4453 - val_loss: 1.4876 - val_accuracy: 0.3418\n",
            "Epoch 9/100\n",
            "84/84 [==============================] - 2s 23ms/step - loss: 1.3048 - accuracy: 0.4509 - val_loss: 1.3346 - val_accuracy: 0.4433\n",
            "Epoch 10/100\n",
            "84/84 [==============================] - 2s 24ms/step - loss: 1.2824 - accuracy: 0.4631 - val_loss: 1.2815 - val_accuracy: 0.4619\n",
            "Epoch 11/100\n",
            "84/84 [==============================] - 2s 22ms/step - loss: 1.2653 - accuracy: 0.4660 - val_loss: 1.2679 - val_accuracy: 0.4679\n",
            "Epoch 12/100\n",
            "84/84 [==============================] - 2s 24ms/step - loss: 1.2463 - accuracy: 0.4752 - val_loss: 1.2598 - val_accuracy: 0.4754\n",
            "Epoch 13/100\n",
            "84/84 [==============================] - 2s 24ms/step - loss: 1.2330 - accuracy: 0.4797 - val_loss: 1.2515 - val_accuracy: 0.4769\n",
            "Epoch 14/100\n",
            "84/84 [==============================] - 2s 24ms/step - loss: 1.2158 - accuracy: 0.4890 - val_loss: 1.2428 - val_accuracy: 0.4776\n",
            "Epoch 15/100\n",
            "84/84 [==============================] - 2s 24ms/step - loss: 1.2047 - accuracy: 0.4955 - val_loss: 1.2348 - val_accuracy: 0.4806\n",
            "Epoch 16/100\n",
            "84/84 [==============================] - 2s 22ms/step - loss: 1.1909 - accuracy: 0.5030 - val_loss: 1.2248 - val_accuracy: 0.4806\n",
            "Epoch 17/100\n",
            "84/84 [==============================] - 2s 24ms/step - loss: 1.1775 - accuracy: 0.5056 - val_loss: 1.2178 - val_accuracy: 0.4888\n",
            "Epoch 18/100\n",
            "84/84 [==============================] - 2s 22ms/step - loss: 1.1671 - accuracy: 0.5123 - val_loss: 1.2118 - val_accuracy: 0.4970\n",
            "Epoch 19/100\n",
            "84/84 [==============================] - 2s 24ms/step - loss: 1.1551 - accuracy: 0.5192 - val_loss: 1.2042 - val_accuracy: 0.4970\n",
            "Epoch 20/100\n",
            "84/84 [==============================] - 2s 24ms/step - loss: 1.1480 - accuracy: 0.5207 - val_loss: 1.1974 - val_accuracy: 0.4985\n",
            "Epoch 21/100\n",
            "84/84 [==============================] - 2s 22ms/step - loss: 1.1367 - accuracy: 0.5285 - val_loss: 1.1904 - val_accuracy: 0.5052\n",
            "Epoch 22/100\n",
            "84/84 [==============================] - 2s 22ms/step - loss: 1.1273 - accuracy: 0.5308 - val_loss: 1.1848 - val_accuracy: 0.4978\n",
            "Epoch 23/100\n",
            "84/84 [==============================] - 2s 24ms/step - loss: 1.1179 - accuracy: 0.5354 - val_loss: 1.1776 - val_accuracy: 0.5067\n",
            "Epoch 24/100\n",
            "84/84 [==============================] - 2s 22ms/step - loss: 1.1108 - accuracy: 0.5440 - val_loss: 1.1731 - val_accuracy: 0.5104\n",
            "Epoch 25/100\n",
            "84/84 [==============================] - 2s 23ms/step - loss: 1.1007 - accuracy: 0.5442 - val_loss: 1.1675 - val_accuracy: 0.5127\n",
            "Epoch 26/100\n",
            "84/84 [==============================] - 2s 22ms/step - loss: 1.0938 - accuracy: 0.5444 - val_loss: 1.1626 - val_accuracy: 0.5134\n",
            "Epoch 27/100\n",
            "84/84 [==============================] - 2s 25ms/step - loss: 1.0836 - accuracy: 0.5522 - val_loss: 1.1575 - val_accuracy: 0.5164\n",
            "Epoch 28/100\n",
            "84/84 [==============================] - 2s 23ms/step - loss: 1.0749 - accuracy: 0.5580 - val_loss: 1.1527 - val_accuracy: 0.5209\n",
            "Epoch 29/100\n",
            "84/84 [==============================] - 2s 23ms/step - loss: 1.0726 - accuracy: 0.5575 - val_loss: 1.1500 - val_accuracy: 0.5231\n",
            "Epoch 30/100\n",
            "84/84 [==============================] - 2s 22ms/step - loss: 1.0616 - accuracy: 0.5670 - val_loss: 1.1444 - val_accuracy: 0.5246\n",
            "Epoch 31/100\n",
            "84/84 [==============================] - 2s 24ms/step - loss: 1.0545 - accuracy: 0.5701 - val_loss: 1.1400 - val_accuracy: 0.5284\n",
            "Epoch 32/100\n",
            "84/84 [==============================] - 2s 24ms/step - loss: 1.0454 - accuracy: 0.5772 - val_loss: 1.1354 - val_accuracy: 0.5299\n",
            "Epoch 33/100\n",
            "84/84 [==============================] - 2s 23ms/step - loss: 1.0419 - accuracy: 0.5774 - val_loss: 1.1307 - val_accuracy: 0.5284\n",
            "Epoch 34/100\n",
            "84/84 [==============================] - 2s 22ms/step - loss: 1.0344 - accuracy: 0.5799 - val_loss: 1.1272 - val_accuracy: 0.5299\n",
            "Epoch 35/100\n",
            "84/84 [==============================] - 2s 22ms/step - loss: 1.0256 - accuracy: 0.5851 - val_loss: 1.1251 - val_accuracy: 0.5306\n",
            "Epoch 36/100\n",
            "84/84 [==============================] - 2s 22ms/step - loss: 1.0207 - accuracy: 0.5875 - val_loss: 1.1210 - val_accuracy: 0.5343\n",
            "Epoch 37/100\n",
            "84/84 [==============================] - 2s 23ms/step - loss: 1.0143 - accuracy: 0.5916 - val_loss: 1.1180 - val_accuracy: 0.5343\n",
            "Epoch 38/100\n",
            "84/84 [==============================] - 2s 22ms/step - loss: 1.0079 - accuracy: 0.5961 - val_loss: 1.1125 - val_accuracy: 0.5351\n",
            "Epoch 39/100\n",
            "84/84 [==============================] - 2s 23ms/step - loss: 0.9997 - accuracy: 0.5951 - val_loss: 1.1101 - val_accuracy: 0.5358\n",
            "Epoch 40/100\n",
            "84/84 [==============================] - 2s 24ms/step - loss: 0.9936 - accuracy: 0.6004 - val_loss: 1.1067 - val_accuracy: 0.5410\n",
            "Epoch 41/100\n",
            "84/84 [==============================] - 2s 25ms/step - loss: 0.9887 - accuracy: 0.6049 - val_loss: 1.1013 - val_accuracy: 0.5410\n",
            "Epoch 42/100\n",
            "84/84 [==============================] - 2s 23ms/step - loss: 0.9799 - accuracy: 0.6060 - val_loss: 1.1013 - val_accuracy: 0.5433\n",
            "Epoch 43/100\n",
            "84/84 [==============================] - 2s 23ms/step - loss: 0.9758 - accuracy: 0.6142 - val_loss: 1.0943 - val_accuracy: 0.5440\n",
            "Epoch 44/100\n",
            "84/84 [==============================] - 2s 24ms/step - loss: 0.9692 - accuracy: 0.6149 - val_loss: 1.0905 - val_accuracy: 0.5478\n",
            "Epoch 45/100\n",
            "84/84 [==============================] - 2s 24ms/step - loss: 0.9658 - accuracy: 0.6187 - val_loss: 1.0878 - val_accuracy: 0.5485\n",
            "Epoch 46/100\n",
            "84/84 [==============================] - 2s 23ms/step - loss: 0.9594 - accuracy: 0.6187 - val_loss: 1.0832 - val_accuracy: 0.5507\n",
            "Epoch 47/100\n",
            "84/84 [==============================] - 2s 25ms/step - loss: 0.9566 - accuracy: 0.6224 - val_loss: 1.0816 - val_accuracy: 0.5500\n",
            "Epoch 48/100\n",
            "84/84 [==============================] - 2s 23ms/step - loss: 0.9496 - accuracy: 0.6259 - val_loss: 1.0801 - val_accuracy: 0.5515\n",
            "Epoch 49/100\n",
            "84/84 [==============================] - 2s 25ms/step - loss: 0.9429 - accuracy: 0.6295 - val_loss: 1.0787 - val_accuracy: 0.5552\n",
            "Epoch 50/100\n",
            "84/84 [==============================] - 2s 23ms/step - loss: 0.9379 - accuracy: 0.6317 - val_loss: 1.0802 - val_accuracy: 0.5485\n",
            "Epoch 51/100\n",
            "84/84 [==============================] - 2s 23ms/step - loss: 0.9320 - accuracy: 0.6366 - val_loss: 1.0754 - val_accuracy: 0.5537\n",
            "Epoch 52/100\n",
            "84/84 [==============================] - 2s 22ms/step - loss: 0.9265 - accuracy: 0.6418 - val_loss: 1.0672 - val_accuracy: 0.5597\n",
            "Epoch 53/100\n",
            "84/84 [==============================] - 2s 22ms/step - loss: 0.9216 - accuracy: 0.6392 - val_loss: 1.0629 - val_accuracy: 0.5642\n",
            "Epoch 54/100\n",
            "84/84 [==============================] - 2s 24ms/step - loss: 0.9166 - accuracy: 0.6448 - val_loss: 1.0637 - val_accuracy: 0.5604\n",
            "Epoch 55/100\n",
            "84/84 [==============================] - 2s 23ms/step - loss: 0.9092 - accuracy: 0.6466 - val_loss: 1.0581 - val_accuracy: 0.5619\n",
            "Epoch 56/100\n",
            "84/84 [==============================] - 2s 24ms/step - loss: 0.9041 - accuracy: 0.6470 - val_loss: 1.0564 - val_accuracy: 0.5634\n",
            "Epoch 57/100\n",
            "84/84 [==============================] - 2s 25ms/step - loss: 0.9001 - accuracy: 0.6493 - val_loss: 1.0547 - val_accuracy: 0.5627\n",
            "Epoch 58/100\n",
            "84/84 [==============================] - 2s 23ms/step - loss: 0.8941 - accuracy: 0.6556 - val_loss: 1.0515 - val_accuracy: 0.5642\n",
            "Epoch 59/100\n",
            "84/84 [==============================] - 2s 22ms/step - loss: 0.8899 - accuracy: 0.6567 - val_loss: 1.0580 - val_accuracy: 0.5664\n",
            "Epoch 60/100\n",
            "84/84 [==============================] - 2s 22ms/step - loss: 0.8838 - accuracy: 0.6601 - val_loss: 1.0482 - val_accuracy: 0.5649\n",
            "Epoch 61/100\n",
            "84/84 [==============================] - 2s 23ms/step - loss: 0.8801 - accuracy: 0.6625 - val_loss: 1.0421 - val_accuracy: 0.5664\n",
            "Epoch 62/100\n",
            "84/84 [==============================] - 2s 23ms/step - loss: 0.8755 - accuracy: 0.6668 - val_loss: 1.0432 - val_accuracy: 0.5694\n",
            "Epoch 63/100\n",
            "84/84 [==============================] - 2s 24ms/step - loss: 0.8705 - accuracy: 0.6675 - val_loss: 1.0473 - val_accuracy: 0.5716\n",
            "Epoch 64/100\n",
            "84/84 [==============================] - 2s 25ms/step - loss: 0.8654 - accuracy: 0.6692 - val_loss: 1.0347 - val_accuracy: 0.5799\n",
            "Epoch 65/100\n",
            "84/84 [==============================] - 2s 25ms/step - loss: 0.8617 - accuracy: 0.6743 - val_loss: 1.0384 - val_accuracy: 0.5724\n",
            "Epoch 66/100\n",
            "84/84 [==============================] - 2s 22ms/step - loss: 0.8555 - accuracy: 0.6748 - val_loss: 1.0251 - val_accuracy: 0.5828\n",
            "Epoch 67/100\n",
            "84/84 [==============================] - 2s 25ms/step - loss: 0.8523 - accuracy: 0.6765 - val_loss: 1.0291 - val_accuracy: 0.5791\n",
            "Epoch 68/100\n",
            "84/84 [==============================] - 2s 24ms/step - loss: 0.8471 - accuracy: 0.6806 - val_loss: 1.0196 - val_accuracy: 0.5851\n",
            "Epoch 69/100\n",
            "84/84 [==============================] - 2s 25ms/step - loss: 0.8421 - accuracy: 0.6881 - val_loss: 1.0254 - val_accuracy: 0.5821\n",
            "Epoch 70/100\n",
            "84/84 [==============================] - 2s 23ms/step - loss: 0.8368 - accuracy: 0.6860 - val_loss: 1.0225 - val_accuracy: 0.5821\n",
            "Epoch 71/100\n",
            "84/84 [==============================] - 2s 25ms/step - loss: 0.8326 - accuracy: 0.6901 - val_loss: 1.0154 - val_accuracy: 0.5843\n",
            "Epoch 72/100\n",
            "84/84 [==============================] - 2s 23ms/step - loss: 0.8287 - accuracy: 0.6903 - val_loss: 1.0147 - val_accuracy: 0.5888\n",
            "Epoch 73/100\n",
            "84/84 [==============================] - 2s 25ms/step - loss: 0.8256 - accuracy: 0.6950 - val_loss: 1.0357 - val_accuracy: 0.5821\n",
            "Epoch 74/100\n",
            "84/84 [==============================] - 2s 23ms/step - loss: 0.8181 - accuracy: 0.6991 - val_loss: 1.0207 - val_accuracy: 0.5881\n",
            "Epoch 75/100\n",
            "84/84 [==============================] - 2s 23ms/step - loss: 0.8173 - accuracy: 0.6966 - val_loss: 1.0185 - val_accuracy: 0.5888\n",
            "Epoch 76/100\n",
            "84/84 [==============================] - 2s 25ms/step - loss: 0.8084 - accuracy: 0.6987 - val_loss: 1.0132 - val_accuracy: 0.5925\n",
            "Epoch 77/100\n",
            "84/84 [==============================] - 2s 25ms/step - loss: 0.8090 - accuracy: 0.7021 - val_loss: 1.0079 - val_accuracy: 0.5933\n",
            "Epoch 78/100\n",
            "84/84 [==============================] - 2s 24ms/step - loss: 0.8013 - accuracy: 0.7063 - val_loss: 0.9995 - val_accuracy: 0.5933\n",
            "Epoch 79/100\n",
            "84/84 [==============================] - 2s 25ms/step - loss: 0.7999 - accuracy: 0.7086 - val_loss: 1.0062 - val_accuracy: 0.5948\n",
            "Epoch 80/100\n",
            "84/84 [==============================] - 2s 23ms/step - loss: 0.7941 - accuracy: 0.7095 - val_loss: 0.9975 - val_accuracy: 0.5993\n",
            "Epoch 81/100\n",
            "84/84 [==============================] - 2s 23ms/step - loss: 0.7877 - accuracy: 0.7119 - val_loss: 0.9943 - val_accuracy: 0.5978\n",
            "Epoch 82/100\n",
            "84/84 [==============================] - 2s 25ms/step - loss: 0.7814 - accuracy: 0.7183 - val_loss: 0.9979 - val_accuracy: 0.6000\n",
            "Epoch 83/100\n",
            "84/84 [==============================] - 2s 23ms/step - loss: 0.7787 - accuracy: 0.7172 - val_loss: 0.9970 - val_accuracy: 0.5985\n",
            "Epoch 84/100\n",
            "84/84 [==============================] - 2s 24ms/step - loss: 0.7762 - accuracy: 0.7205 - val_loss: 0.9822 - val_accuracy: 0.6052\n",
            "Epoch 85/100\n",
            "84/84 [==============================] - 2s 23ms/step - loss: 0.7707 - accuracy: 0.7248 - val_loss: 1.0000 - val_accuracy: 0.5985\n",
            "Epoch 86/100\n",
            "84/84 [==============================] - 2s 23ms/step - loss: 0.7673 - accuracy: 0.7246 - val_loss: 0.9901 - val_accuracy: 0.5985\n",
            "Epoch 87/100\n",
            "84/84 [==============================] - 2s 25ms/step - loss: 0.7624 - accuracy: 0.7256 - val_loss: 0.9740 - val_accuracy: 0.6104\n",
            "Epoch 88/100\n",
            "84/84 [==============================] - 2s 25ms/step - loss: 0.7579 - accuracy: 0.7267 - val_loss: 0.9699 - val_accuracy: 0.6134\n",
            "Epoch 89/100\n",
            "84/84 [==============================] - 2s 25ms/step - loss: 0.7557 - accuracy: 0.7300 - val_loss: 0.9656 - val_accuracy: 0.6112\n",
            "Epoch 90/100\n",
            "84/84 [==============================] - 2s 23ms/step - loss: 0.7516 - accuracy: 0.7347 - val_loss: 0.9780 - val_accuracy: 0.6097\n",
            "Epoch 91/100\n",
            "84/84 [==============================] - 2s 23ms/step - loss: 0.7499 - accuracy: 0.7345 - val_loss: 0.9692 - val_accuracy: 0.6112\n",
            "Epoch 92/100\n",
            "84/84 [==============================] - 2s 24ms/step - loss: 0.7431 - accuracy: 0.7386 - val_loss: 0.9639 - val_accuracy: 0.6172\n",
            "Epoch 93/100\n",
            "84/84 [==============================] - 2s 23ms/step - loss: 0.7412 - accuracy: 0.7418 - val_loss: 0.9754 - val_accuracy: 0.6075\n",
            "Epoch 94/100\n",
            "84/84 [==============================] - 2s 23ms/step - loss: 0.7362 - accuracy: 0.7427 - val_loss: 0.9731 - val_accuracy: 0.6090\n",
            "Epoch 95/100\n",
            "84/84 [==============================] - 2s 23ms/step - loss: 0.7349 - accuracy: 0.7450 - val_loss: 0.9685 - val_accuracy: 0.6119\n",
            "Epoch 96/100\n",
            "84/84 [==============================] - 2s 23ms/step - loss: 0.7288 - accuracy: 0.7481 - val_loss: 0.9529 - val_accuracy: 0.6239\n",
            "Epoch 97/100\n",
            "84/84 [==============================] - 2s 23ms/step - loss: 0.7257 - accuracy: 0.7483 - val_loss: 0.9553 - val_accuracy: 0.6216\n",
            "Epoch 98/100\n",
            "84/84 [==============================] - 2s 23ms/step - loss: 0.7212 - accuracy: 0.7513 - val_loss: 0.9609 - val_accuracy: 0.6209\n",
            "Epoch 99/100\n",
            "84/84 [==============================] - 2s 23ms/step - loss: 0.7182 - accuracy: 0.7494 - val_loss: 0.9493 - val_accuracy: 0.6216\n",
            "Epoch 100/100\n",
            "84/84 [==============================] - 2s 25ms/step - loss: 0.7136 - accuracy: 0.7580 - val_loss: 0.9411 - val_accuracy: 0.6261\n"
          ]
        },
        {
          "output_type": "execute_result",
          "data": {
            "text/plain": [
              "<keras.callbacks.History at 0x7f3bf02ef1d0>"
            ]
          },
          "metadata": {},
          "execution_count": 10
        }
      ]
    },
    {
      "cell_type": "code",
      "source": [
        "model = keras.models.Sequential()\n",
        "model.add(keras.layers.Conv2D(32, kernel_size=(3, 3), activation='relu', input_shape=[50, 50, 1])) \n",
        "model.add(keras.layers.BatchNormalization(axis=-1)) \n",
        "model.add(keras.layers.MaxPooling2D(pool_size=(2, 2)))\n",
        "model.add(keras.layers.Conv2D(32, kernel_size=(3, 3), activation='relu'))  \n",
        "model.add(keras.layers.MaxPooling2D(pool_size=(2, 2)))\n",
        "model.add(keras.layers.BatchNormalization(axis=-1))\n",
        "model.add(keras.layers.Flatten())\n",
        "model.add(keras.layers.Dense(64, activation='relu'))\n",
        "model.add(keras.layers.Dense(10, activation='relu'))\n",
        "model.add(keras.layers.Dense(5, activation='softmax'))\n",
        "model.compile(loss=\"sparse_categorical_crossentropy\",\n",
        "              optimizer=\"Adam\",\n",
        "              metrics=[\"accuracy\"])\n",
        "model.summary()"
      ],
      "metadata": {
        "id": "iejZk1LJNDCu",
        "colab": {
          "base_uri": "https://localhost:8080/"
        },
        "outputId": "31c918cb-8563-409c-a849-b8c701f4d388"
      },
      "execution_count": 11,
      "outputs": [
        {
          "output_type": "stream",
          "name": "stdout",
          "text": [
            "Model: \"sequential_2\"\n",
            "_________________________________________________________________\n",
            " Layer (type)                Output Shape              Param #   \n",
            "=================================================================\n",
            " conv2d_2 (Conv2D)           (None, 48, 48, 32)        320       \n",
            "                                                                 \n",
            " batch_normalization_3 (Batc  (None, 48, 48, 32)       128       \n",
            " hNormalization)                                                 \n",
            "                                                                 \n",
            " max_pooling2d_1 (MaxPooling  (None, 24, 24, 32)       0         \n",
            " 2D)                                                             \n",
            "                                                                 \n",
            " conv2d_3 (Conv2D)           (None, 22, 22, 32)        9248      \n",
            "                                                                 \n",
            " max_pooling2d_2 (MaxPooling  (None, 11, 11, 32)       0         \n",
            " 2D)                                                             \n",
            "                                                                 \n",
            " batch_normalization_4 (Batc  (None, 11, 11, 32)       128       \n",
            " hNormalization)                                                 \n",
            "                                                                 \n",
            " flatten_2 (Flatten)         (None, 3872)              0         \n",
            "                                                                 \n",
            " dense_4 (Dense)             (None, 64)                247872    \n",
            "                                                                 \n",
            " dense_5 (Dense)             (None, 10)                650       \n",
            "                                                                 \n",
            " dense_6 (Dense)             (None, 5)                 55        \n",
            "                                                                 \n",
            "=================================================================\n",
            "Total params: 258,401\n",
            "Trainable params: 258,273\n",
            "Non-trainable params: 128\n",
            "_________________________________________________________________\n"
          ]
        }
      ]
    },
    {
      "cell_type": "code",
      "source": [
        "root_logdir = os.path.join(os.curdir, \"my_logs\")\n",
        "\n",
        "def get_run_logdir():\n",
        "    run_id = time.strftime(\"run_%Y_%m_%d-%H_%M_%S\")\n",
        "    return os.path.join(root_logdir, run_id)\n",
        "\n",
        "run_logdir = get_run_logdir()\n",
        "tensorboard_cb = TensorBoard(run_logdir)"
      ],
      "metadata": {
        "id": "nf3ld8odNDB_"
      },
      "execution_count": 12,
      "outputs": []
    },
    {
      "cell_type": "code",
      "source": [
        "model.fit(X_train, y_train, epochs=50, batch_size=128, validation_split=0.2, callbacks=[tensorboard_cb])"
      ],
      "metadata": {
        "colab": {
          "base_uri": "https://localhost:8080/"
        },
        "id": "7TVnPgGZkn9S",
        "outputId": "d0a4a928-f7dd-478c-a279-cbce30922c42"
      },
      "execution_count": 13,
      "outputs": [
        {
          "output_type": "stream",
          "name": "stdout",
          "text": [
            "Epoch 1/50\n",
            "42/42 [==============================] - 3s 44ms/step - loss: 1.2794 - accuracy: 0.4653 - val_loss: 1.5795 - val_accuracy: 0.3000\n",
            "Epoch 2/50\n",
            "42/42 [==============================] - 1s 26ms/step - loss: 1.1033 - accuracy: 0.5371 - val_loss: 1.7555 - val_accuracy: 0.3000\n",
            "Epoch 3/50\n",
            "42/42 [==============================] - 1s 24ms/step - loss: 0.9274 - accuracy: 0.6259 - val_loss: 2.4737 - val_accuracy: 0.3000\n",
            "Epoch 4/50\n",
            "42/42 [==============================] - 1s 26ms/step - loss: 0.6969 - accuracy: 0.7340 - val_loss: 2.8011 - val_accuracy: 0.3000\n",
            "Epoch 5/50\n",
            "42/42 [==============================] - 1s 33ms/step - loss: 0.5317 - accuracy: 0.8099 - val_loss: 2.3378 - val_accuracy: 0.3000\n",
            "Epoch 6/50\n",
            "42/42 [==============================] - 1s 18ms/step - loss: 0.4273 - accuracy: 0.8513 - val_loss: 2.0615 - val_accuracy: 0.3000\n",
            "Epoch 7/50\n",
            "42/42 [==============================] - 1s 19ms/step - loss: 0.3198 - accuracy: 0.9030 - val_loss: 1.8938 - val_accuracy: 0.1851\n",
            "Epoch 8/50\n",
            "42/42 [==============================] - 1s 20ms/step - loss: 0.2577 - accuracy: 0.9231 - val_loss: 1.6305 - val_accuracy: 0.2299\n",
            "Epoch 9/50\n",
            "42/42 [==============================] - 1s 20ms/step - loss: 0.2119 - accuracy: 0.9416 - val_loss: 2.2930 - val_accuracy: 0.2560\n",
            "Epoch 10/50\n",
            "42/42 [==============================] - 1s 19ms/step - loss: 0.1607 - accuracy: 0.9599 - val_loss: 2.1577 - val_accuracy: 0.2440\n",
            "Epoch 11/50\n",
            "42/42 [==============================] - 1s 20ms/step - loss: 0.1398 - accuracy: 0.9623 - val_loss: 2.1806 - val_accuracy: 0.2164\n",
            "Epoch 12/50\n",
            "42/42 [==============================] - 1s 21ms/step - loss: 0.1040 - accuracy: 0.9767 - val_loss: 2.2030 - val_accuracy: 0.1507\n",
            "Epoch 13/50\n",
            "42/42 [==============================] - 1s 19ms/step - loss: 0.0802 - accuracy: 0.9819 - val_loss: 2.5696 - val_accuracy: 0.2881\n",
            "Epoch 14/50\n",
            "42/42 [==============================] - 1s 21ms/step - loss: 0.0708 - accuracy: 0.9826 - val_loss: 2.2019 - val_accuracy: 0.2978\n",
            "Epoch 15/50\n",
            "42/42 [==============================] - 1s 19ms/step - loss: 0.0572 - accuracy: 0.9869 - val_loss: 2.6765 - val_accuracy: 0.2955\n",
            "Epoch 16/50\n",
            "42/42 [==============================] - 1s 18ms/step - loss: 0.0461 - accuracy: 0.9890 - val_loss: 2.6056 - val_accuracy: 0.2463\n",
            "Epoch 17/50\n",
            "42/42 [==============================] - 1s 21ms/step - loss: 0.0353 - accuracy: 0.9929 - val_loss: 1.7559 - val_accuracy: 0.4045\n",
            "Epoch 18/50\n",
            "42/42 [==============================] - 1s 21ms/step - loss: 0.0258 - accuracy: 0.9948 - val_loss: 0.6536 - val_accuracy: 0.7687\n",
            "Epoch 19/50\n",
            "42/42 [==============================] - 1s 19ms/step - loss: 0.0213 - accuracy: 0.9961 - val_loss: 0.4887 - val_accuracy: 0.9082\n",
            "Epoch 20/50\n",
            "42/42 [==============================] - 1s 21ms/step - loss: 0.0173 - accuracy: 0.9965 - val_loss: 0.4267 - val_accuracy: 0.9187\n",
            "Epoch 21/50\n",
            "42/42 [==============================] - 1s 25ms/step - loss: 0.0168 - accuracy: 0.9978 - val_loss: 0.6314 - val_accuracy: 0.8575\n",
            "Epoch 22/50\n",
            "42/42 [==============================] - 1s 25ms/step - loss: 0.0134 - accuracy: 0.9976 - val_loss: 1.0339 - val_accuracy: 0.7940\n",
            "Epoch 23/50\n",
            "42/42 [==============================] - 1s 23ms/step - loss: 0.0122 - accuracy: 0.9976 - val_loss: 0.5705 - val_accuracy: 0.8701\n",
            "Epoch 24/50\n",
            "42/42 [==============================] - 1s 19ms/step - loss: 0.0091 - accuracy: 0.9985 - val_loss: 1.0868 - val_accuracy: 0.7948\n",
            "Epoch 25/50\n",
            "42/42 [==============================] - 1s 20ms/step - loss: 0.0100 - accuracy: 0.9976 - val_loss: 0.6037 - val_accuracy: 0.8858\n",
            "Epoch 26/50\n",
            "42/42 [==============================] - 1s 20ms/step - loss: 0.0143 - accuracy: 0.9970 - val_loss: 0.4938 - val_accuracy: 0.9179\n",
            "Epoch 27/50\n",
            "42/42 [==============================] - 1s 21ms/step - loss: 0.0087 - accuracy: 0.9981 - val_loss: 1.7397 - val_accuracy: 0.6463\n",
            "Epoch 28/50\n",
            "42/42 [==============================] - 1s 20ms/step - loss: 0.0091 - accuracy: 0.9978 - val_loss: 0.7110 - val_accuracy: 0.8545\n",
            "Epoch 29/50\n",
            "42/42 [==============================] - 1s 19ms/step - loss: 0.0109 - accuracy: 0.9976 - val_loss: 0.7210 - val_accuracy: 0.8455\n",
            "Epoch 30/50\n",
            "42/42 [==============================] - 1s 20ms/step - loss: 0.0096 - accuracy: 0.9983 - val_loss: 0.5859 - val_accuracy: 0.9075\n",
            "Epoch 31/50\n",
            "42/42 [==============================] - 1s 21ms/step - loss: 0.0062 - accuracy: 0.9991 - val_loss: 0.5121 - val_accuracy: 0.9216\n",
            "Epoch 32/50\n",
            "42/42 [==============================] - 1s 19ms/step - loss: 0.0081 - accuracy: 0.9979 - val_loss: 0.5744 - val_accuracy: 0.9015\n",
            "Epoch 33/50\n",
            "42/42 [==============================] - 1s 19ms/step - loss: 0.0045 - accuracy: 0.9989 - val_loss: 0.5892 - val_accuracy: 0.9142\n",
            "Epoch 34/50\n",
            "42/42 [==============================] - 1s 21ms/step - loss: 0.0042 - accuracy: 0.9991 - val_loss: 0.5718 - val_accuracy: 0.9209\n",
            "Epoch 35/50\n",
            "42/42 [==============================] - 1s 21ms/step - loss: 0.0068 - accuracy: 0.9981 - val_loss: 0.7000 - val_accuracy: 0.8642\n",
            "Epoch 36/50\n",
            "42/42 [==============================] - 1s 19ms/step - loss: 0.0033 - accuracy: 0.9991 - val_loss: 0.5984 - val_accuracy: 0.9239\n",
            "Epoch 37/50\n",
            "42/42 [==============================] - 1s 19ms/step - loss: 0.0025 - accuracy: 0.9994 - val_loss: 0.5832 - val_accuracy: 0.9216\n",
            "Epoch 38/50\n",
            "42/42 [==============================] - 1s 21ms/step - loss: 0.0023 - accuracy: 0.9991 - val_loss: 0.8341 - val_accuracy: 0.8739\n",
            "Epoch 39/50\n",
            "42/42 [==============================] - 1s 21ms/step - loss: 0.0027 - accuracy: 0.9993 - val_loss: 0.5780 - val_accuracy: 0.9276\n",
            "Epoch 40/50\n",
            "42/42 [==============================] - 1s 21ms/step - loss: 0.0044 - accuracy: 0.9979 - val_loss: 0.6460 - val_accuracy: 0.8978\n",
            "Epoch 41/50\n",
            "42/42 [==============================] - 1s 19ms/step - loss: 0.0068 - accuracy: 0.9976 - val_loss: 0.6001 - val_accuracy: 0.9187\n",
            "Epoch 42/50\n",
            "42/42 [==============================] - 1s 19ms/step - loss: 0.0203 - accuracy: 0.9935 - val_loss: 1.1552 - val_accuracy: 0.7530\n",
            "Epoch 43/50\n",
            "42/42 [==============================] - 1s 21ms/step - loss: 0.0684 - accuracy: 0.9774 - val_loss: 10.4250 - val_accuracy: 0.1522\n",
            "Epoch 44/50\n",
            "42/42 [==============================] - 1s 19ms/step - loss: 0.1113 - accuracy: 0.9627 - val_loss: 8.0021 - val_accuracy: 0.2433\n",
            "Epoch 45/50\n",
            "42/42 [==============================] - 1s 20ms/step - loss: 0.0469 - accuracy: 0.9858 - val_loss: 10.2427 - val_accuracy: 0.1597\n",
            "Epoch 46/50\n",
            "42/42 [==============================] - 1s 19ms/step - loss: 0.0185 - accuracy: 0.9944 - val_loss: 3.1703 - val_accuracy: 0.4858\n",
            "Epoch 47/50\n",
            "42/42 [==============================] - 1s 19ms/step - loss: 0.0088 - accuracy: 0.9978 - val_loss: 0.9728 - val_accuracy: 0.8597\n",
            "Epoch 48/50\n",
            "42/42 [==============================] - 1s 21ms/step - loss: 0.0066 - accuracy: 0.9979 - val_loss: 0.6336 - val_accuracy: 0.9104\n",
            "Epoch 49/50\n",
            "42/42 [==============================] - 1s 21ms/step - loss: 0.0042 - accuracy: 0.9987 - val_loss: 0.6922 - val_accuracy: 0.9149\n",
            "Epoch 50/50\n",
            "42/42 [==============================] - 1s 21ms/step - loss: 0.0028 - accuracy: 0.9989 - val_loss: 0.6354 - val_accuracy: 0.9142\n"
          ]
        },
        {
          "output_type": "execute_result",
          "data": {
            "text/plain": [
              "<keras.callbacks.History at 0x7f3bf007e690>"
            ]
          },
          "metadata": {},
          "execution_count": 13
        }
      ]
    },
    {
      "cell_type": "code",
      "source": [
        "pred = model.predict(X_test).argmax(axis=1)\n",
        "print('Accuracy on test set - {0:.02%}'.format((pred == y_test).mean()))"
      ],
      "metadata": {
        "colab": {
          "base_uri": "https://localhost:8080/"
        },
        "id": "jcwr3FSVmX1B",
        "outputId": "d191952e-38e5-4b09-fe6a-f4d6dfa163fa"
      },
      "execution_count": 14,
      "outputs": [
        {
          "output_type": "stream",
          "name": "stdout",
          "text": [
            "Accuracy on test set - 93.24%\n"
          ]
        }
      ]
    },
    {
      "cell_type": "code",
      "source": [
        "model.save('model.h5')"
      ],
      "metadata": {
        "id": "LOZ3gD28HldT"
      },
      "execution_count": 19,
      "outputs": []
    },
    {
      "cell_type": "code",
      "source": [
        "def evaluate(path, model):\n",
        "    X, y = pickle.load(gzip.open(path, 'rb'))\n",
        "    y[y != 0] -= 2\n",
        "    X = X / 255.\n",
        "    acc = np.mean(model(X).numpy().argmax(axis=1) == y)\n",
        "    return acc\n",
        "\n",
        "model = keras.models.load_model('model.h5')\n",
        "evaluate('/content/drive/MyDrive/Projektas/flatland_train.data', model)"
      ],
      "metadata": {
        "colab": {
          "base_uri": "https://localhost:8080/"
        },
        "id": "Ngof2858E93L",
        "outputId": "c24f8205-108e-43a6-d354-97da15f0e216"
      },
      "execution_count": 18,
      "outputs": [
        {
          "output_type": "execute_result",
          "data": {
            "text/plain": [
              "0.2853"
            ]
          },
          "metadata": {},
          "execution_count": 18
        }
      ]
    }
  ]
}