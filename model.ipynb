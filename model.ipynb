{
  "nbformat": 4,
  "nbformat_minor": 0,
  "metadata": {
    "colab": {
      "name": "„Untitled2.ipynb“ kopija",
      "provenance": [],
      "mount_file_id": "https://github.com/augutis44/AI-projektas/blob/main/%E2%80%9EUntitled2_ipynb%E2%80%9C_kopija.ipynb",
      "authorship_tag": "ABX9TyMCS1eQLM3Itum3H77Q0L4z",
      "include_colab_link": true
    },
    "kernelspec": {
      "name": "python3",
      "display_name": "Python 3"
    },
    "language_info": {
      "name": "python"
    },
    "accelerator": "GPU"
  },
  "cells": [
    {
      "cell_type": "markdown",
      "metadata": {
        "id": "view-in-github",
        "colab_type": "text"
      },
      "source": [
        "<a href=\"https://colab.research.google.com/github/augutis44/AI-projektas/blob/main/model.ipynb\" target=\"_parent\"><img src=\"https://colab.research.google.com/assets/colab-badge.svg\" alt=\"Open In Colab\"/></a>"
      ]
    },
    {
      "cell_type": "code",
      "execution_count": 2,
      "metadata": {
        "id": "Hn3fyOCwgAx4"
      },
      "outputs": [],
      "source": [
        "import gzip\n",
        "import pickle\n",
        "import numpy as np\n",
        "from tensorflow import keras\n",
        "import tensorflow.keras as keras\n",
        "from sklearn.model_selection import train_test_split\n",
        "import os\n",
        "import time\n",
        "import pandas as pd\n",
        "import matplotlib.pyplot as plt\n",
        "from tensorflow.keras.layers import Dense, Input, Flatten, Conv2D, BatchNormalization, Activation, Dropout, MaxPooling2D\n",
        "from tensorflow.keras.models import Sequential\n",
        "from tensorflow.keras.optimizers import Adam\n",
        "from tensorflow.keras.callbacks import TensorBoard"
      ]
    },
    {
      "cell_type": "code",
      "source": [
        "path = '/content/drive/MyDrive/Projektas/flatland_train.data'\n",
        "X, y = pickle.load(gzip.open(path, 'rb'))\n",
        "\n",
        "y[y != 0] -= 2     # Fix labels to run from 0 to 4\n",
        "X = X.reshape(X.shape[0], 50, 50, 1) / 255.0     # Scale input to range [0, 1]"
      ],
      "metadata": {
        "id": "GRCpP8noFG2z"
      },
      "execution_count": 58,
      "outputs": []
    },
    {
      "cell_type": "code",
      "source": [
        "X_train, X_test, y_train, y_test = train_test_split(\n",
        "X, y, test_size=0.33, random_state=42)"
      ],
      "metadata": {
        "id": "VFbR7FSsElqK"
      },
      "execution_count": 85,
      "outputs": []
    },
    {
      "cell_type": "code",
      "source": [
        "# Normalize (note that we add channel)\n",
        "X_train = X_train.reshape(X_train.shape[0], 50, 50, 1) / 255\n",
        "X_test = X_test.reshape(X_test.shape[0], 50, 50, 1) / 255\n"
      ],
      "metadata": {
        "id": "PBkSSk86BCrx"
      },
      "execution_count": 87,
      "outputs": []
    },
    {
      "cell_type": "code",
      "source": [
        "model = keras.models.Sequential()\n",
        "model.add(keras.layers.Flatten(input_shape=[50, 50, 1]))\n",
        "model.add(keras.layers.Dense(20, activation=\"relu\"))\n",
        "model.add(keras.layers.Dense(5, activation=\"softmax\"))\n",
        "model.compile(loss=\"sparse_categorical_crossentropy\",\n",
        "              optimizer=\"sgd\",\n",
        "              metrics=[\"accuracy\"])\n",
        "model.summary()"
      ],
      "metadata": {
        "colab": {
          "base_uri": "https://localhost:8080/"
        },
        "id": "lIA31P8WCuq-",
        "outputId": "c50778d7-8158-4eaf-98cd-fe22e84ef4cb"
      },
      "execution_count": 88,
      "outputs": [
        {
          "output_type": "stream",
          "name": "stdout",
          "text": [
            "Model: \"sequential_7\"\n",
            "_________________________________________________________________\n",
            " Layer (type)                Output Shape              Param #   \n",
            "=================================================================\n",
            " flatten_7 (Flatten)         (None, 2500)              0         \n",
            "                                                                 \n",
            " dense_14 (Dense)            (None, 20)                50020     \n",
            "                                                                 \n",
            " dense_15 (Dense)            (None, 5)                 105       \n",
            "                                                                 \n",
            "=================================================================\n",
            "Total params: 50,125\n",
            "Trainable params: 50,125\n",
            "Non-trainable params: 0\n",
            "_________________________________________________________________\n"
          ]
        }
      ]
    },
    {
      "cell_type": "code",
      "source": [
        "model.fit(X, y, epochs=20, validation_split=0.2)"
      ],
      "metadata": {
        "colab": {
          "base_uri": "https://localhost:8080/"
        },
        "id": "6FRKRg4j_ny8",
        "outputId": "4296286c-3247-40c3-a8b4-4d6e1a021f41"
      },
      "execution_count": 89,
      "outputs": [
        {
          "output_type": "stream",
          "name": "stdout",
          "text": [
            "Epoch 1/20\n",
            "250/250 [==============================] - 1s 4ms/step - loss: 1.4339 - accuracy: 0.4081 - val_loss: 1.3460 - val_accuracy: 0.4595\n",
            "Epoch 2/20\n",
            "250/250 [==============================] - 1s 4ms/step - loss: 1.2946 - accuracy: 0.4827 - val_loss: 1.2626 - val_accuracy: 0.4790\n",
            "Epoch 3/20\n",
            "250/250 [==============================] - 1s 3ms/step - loss: 1.2305 - accuracy: 0.5035 - val_loss: 1.2257 - val_accuracy: 0.4835\n",
            "Epoch 4/20\n",
            "250/250 [==============================] - 1s 4ms/step - loss: 1.1869 - accuracy: 0.5154 - val_loss: 1.1912 - val_accuracy: 0.4965\n",
            "Epoch 5/20\n",
            "250/250 [==============================] - 1s 4ms/step - loss: 1.1589 - accuracy: 0.5195 - val_loss: 1.1589 - val_accuracy: 0.5120\n",
            "Epoch 6/20\n",
            "250/250 [==============================] - 1s 4ms/step - loss: 1.1301 - accuracy: 0.5341 - val_loss: 1.1349 - val_accuracy: 0.5175\n",
            "Epoch 7/20\n",
            "250/250 [==============================] - 1s 4ms/step - loss: 1.1052 - accuracy: 0.5431 - val_loss: 1.1257 - val_accuracy: 0.5230\n",
            "Epoch 8/20\n",
            "250/250 [==============================] - 1s 4ms/step - loss: 1.0843 - accuracy: 0.5495 - val_loss: 1.0998 - val_accuracy: 0.5335\n",
            "Epoch 9/20\n",
            "250/250 [==============================] - 1s 3ms/step - loss: 1.0651 - accuracy: 0.5577 - val_loss: 1.0873 - val_accuracy: 0.5290\n",
            "Epoch 10/20\n",
            "250/250 [==============================] - 1s 3ms/step - loss: 1.0449 - accuracy: 0.5694 - val_loss: 1.0713 - val_accuracy: 0.5495\n",
            "Epoch 11/20\n",
            "250/250 [==============================] - 1s 4ms/step - loss: 1.0259 - accuracy: 0.5814 - val_loss: 1.0543 - val_accuracy: 0.5415\n",
            "Epoch 12/20\n",
            "250/250 [==============================] - 1s 3ms/step - loss: 1.0075 - accuracy: 0.5865 - val_loss: 1.0414 - val_accuracy: 0.5595\n",
            "Epoch 13/20\n",
            "250/250 [==============================] - 1s 3ms/step - loss: 0.9910 - accuracy: 0.5950 - val_loss: 1.0363 - val_accuracy: 0.5635\n",
            "Epoch 14/20\n",
            "250/250 [==============================] - 1s 3ms/step - loss: 0.9713 - accuracy: 0.6039 - val_loss: 1.0149 - val_accuracy: 0.5625\n",
            "Epoch 15/20\n",
            "250/250 [==============================] - 1s 3ms/step - loss: 0.9536 - accuracy: 0.6175 - val_loss: 0.9966 - val_accuracy: 0.5750\n",
            "Epoch 16/20\n",
            "250/250 [==============================] - 1s 3ms/step - loss: 0.9358 - accuracy: 0.6190 - val_loss: 0.9780 - val_accuracy: 0.5895\n",
            "Epoch 17/20\n",
            "250/250 [==============================] - 1s 3ms/step - loss: 0.9200 - accuracy: 0.6330 - val_loss: 0.9758 - val_accuracy: 0.5895\n",
            "Epoch 18/20\n",
            "250/250 [==============================] - 1s 4ms/step - loss: 0.9049 - accuracy: 0.6367 - val_loss: 0.9691 - val_accuracy: 0.5835\n",
            "Epoch 19/20\n",
            "250/250 [==============================] - 1s 4ms/step - loss: 0.8904 - accuracy: 0.6428 - val_loss: 0.9410 - val_accuracy: 0.6030\n",
            "Epoch 20/20\n",
            "250/250 [==============================] - 1s 4ms/step - loss: 0.8718 - accuracy: 0.6522 - val_loss: 0.9345 - val_accuracy: 0.6140\n"
          ]
        },
        {
          "output_type": "execute_result",
          "data": {
            "text/plain": [
              "<keras.callbacks.History at 0x7f7c2dc81150>"
            ]
          },
          "metadata": {},
          "execution_count": 89
        }
      ]
    },
    {
      "cell_type": "code",
      "source": [
        "model = Sequential()\n",
        "model.add(Conv2D(32, kernel_size=(3, 3), input_shape=[50, 50, 1]))\n",
        "model.add(BatchNormalization(axis=-1))   # Axis -1 is always the features axis\n",
        "model.add(Activation(\"relu\"))\n",
        "model.add(Conv2D(32, (3, 3), activation='relu'))\n",
        "model.add(BatchNormalization(axis=-1))\n",
        "model.add(Activation(\"relu\"))\n",
        "model.add(MaxPooling2D(pool_size=(2, 2)))\n",
        "model.add(BatchNormalization(axis=-1))\n",
        "model.add(Flatten())\n",
        "model.add(Dense(64, activation='relu'))\n",
        "model.add(Dense(5, activation='softmax'))\n",
        "\n",
        "model.compile(loss=\"sparse_categorical_crossentropy\",\n",
        "              optimizer=keras.optimizers.Adadelta(),\n",
        "              metrics=[\"accuracy\"])\n",
        "model.summary()"
      ],
      "metadata": {
        "id": "X68cAoXxNDFj",
        "outputId": "41bd008c-1d63-4481-b526-fea61c97ef07",
        "colab": {
          "base_uri": "https://localhost:8080/"
        }
      },
      "execution_count": 90,
      "outputs": [
        {
          "output_type": "stream",
          "name": "stdout",
          "text": [
            "Model: \"sequential_8\"\n",
            "_________________________________________________________________\n",
            " Layer (type)                Output Shape              Param #   \n",
            "=================================================================\n",
            " conv2d_4 (Conv2D)           (None, 48, 48, 32)        320       \n",
            "                                                                 \n",
            " batch_normalization_6 (Batc  (None, 48, 48, 32)       128       \n",
            " hNormalization)                                                 \n",
            "                                                                 \n",
            " activation_4 (Activation)   (None, 48, 48, 32)        0         \n",
            "                                                                 \n",
            " conv2d_5 (Conv2D)           (None, 46, 46, 32)        9248      \n",
            "                                                                 \n",
            " batch_normalization_7 (Batc  (None, 46, 46, 32)       128       \n",
            " hNormalization)                                                 \n",
            "                                                                 \n",
            " activation_5 (Activation)   (None, 46, 46, 32)        0         \n",
            "                                                                 \n",
            " max_pooling2d_2 (MaxPooling  (None, 23, 23, 32)       0         \n",
            " 2D)                                                             \n",
            "                                                                 \n",
            " batch_normalization_8 (Batc  (None, 23, 23, 32)       128       \n",
            " hNormalization)                                                 \n",
            "                                                                 \n",
            " flatten_8 (Flatten)         (None, 16928)             0         \n",
            "                                                                 \n",
            " dense_16 (Dense)            (None, 64)                1083456   \n",
            "                                                                 \n",
            " dense_17 (Dense)            (None, 5)                 325       \n",
            "                                                                 \n",
            "=================================================================\n",
            "Total params: 1,093,733\n",
            "Trainable params: 1,093,541\n",
            "Non-trainable params: 192\n",
            "_________________________________________________________________\n"
          ]
        }
      ]
    },
    {
      "cell_type": "code",
      "source": [
        "model.fit(X, y, epochs=100, validation_split=0.2)"
      ],
      "metadata": {
        "colab": {
          "base_uri": "https://localhost:8080/"
        },
        "id": "gfEOU_urF5xB",
        "outputId": "78b16a64-2684-470e-ac0f-973463cd2bc4"
      },
      "execution_count": null,
      "outputs": [
        {
          "output_type": "stream",
          "name": "stdout",
          "text": [
            "Epoch 1/100\n",
            "250/250 [==============================] - 4s 18ms/step - loss: 1.3164 - accuracy: 0.4404 - val_loss: 1.3442 - val_accuracy: 0.4330\n",
            "Epoch 2/100\n",
            "250/250 [==============================] - 4s 15ms/step - loss: 1.2836 - accuracy: 0.4549 - val_loss: 1.3194 - val_accuracy: 0.4395\n",
            "Epoch 3/100\n",
            "250/250 [==============================] - 4s 15ms/step - loss: 1.2535 - accuracy: 0.4619 - val_loss: 1.2971 - val_accuracy: 0.4405\n",
            "Epoch 4/100\n",
            "250/250 [==============================] - 4s 15ms/step - loss: 1.2286 - accuracy: 0.4785 - val_loss: 1.2775 - val_accuracy: 0.4505\n",
            "Epoch 5/100\n",
            "250/250 [==============================] - 4s 15ms/step - loss: 1.2035 - accuracy: 0.4869 - val_loss: 1.2610 - val_accuracy: 0.4570\n",
            "Epoch 6/100\n",
            "250/250 [==============================] - 4s 15ms/step - loss: 1.1833 - accuracy: 0.4945 - val_loss: 1.2448 - val_accuracy: 0.4645\n",
            "Epoch 7/100\n",
            "250/250 [==============================] - 4s 15ms/step - loss: 1.1623 - accuracy: 0.5027 - val_loss: 1.2307 - val_accuracy: 0.4685\n",
            "Epoch 8/100\n",
            "250/250 [==============================] - 4s 15ms/step - loss: 1.1459 - accuracy: 0.5129 - val_loss: 1.2174 - val_accuracy: 0.4740\n",
            "Epoch 9/100\n",
            "250/250 [==============================] - 4s 15ms/step - loss: 1.1264 - accuracy: 0.5207 - val_loss: 1.2041 - val_accuracy: 0.4810\n",
            "Epoch 10/100\n",
            "250/250 [==============================] - 4s 15ms/step - loss: 1.1107 - accuracy: 0.5295 - val_loss: 1.1918 - val_accuracy: 0.4895\n",
            "Epoch 11/100\n",
            "250/250 [==============================] - 4s 15ms/step - loss: 1.0955 - accuracy: 0.5403 - val_loss: 1.1801 - val_accuracy: 0.4890\n",
            "Epoch 12/100\n",
            "250/250 [==============================] - 4s 15ms/step - loss: 1.0790 - accuracy: 0.5462 - val_loss: 1.1691 - val_accuracy: 0.4965\n",
            "Epoch 13/100\n",
            "250/250 [==============================] - 4s 17ms/step - loss: 1.0671 - accuracy: 0.5510 - val_loss: 1.1592 - val_accuracy: 0.5015\n",
            "Epoch 14/100\n",
            "250/250 [==============================] - 4s 18ms/step - loss: 1.0499 - accuracy: 0.5600 - val_loss: 1.1478 - val_accuracy: 0.5035\n",
            "Epoch 15/100\n",
            "250/250 [==============================] - 4s 15ms/step - loss: 1.0339 - accuracy: 0.5679 - val_loss: 1.1401 - val_accuracy: 0.5125\n",
            "Epoch 16/100\n",
            "250/250 [==============================] - 4s 14ms/step - loss: 1.0222 - accuracy: 0.5784 - val_loss: 1.1306 - val_accuracy: 0.5185\n",
            "Epoch 17/100\n",
            "250/250 [==============================] - 4s 14ms/step - loss: 1.0099 - accuracy: 0.5838 - val_loss: 1.1198 - val_accuracy: 0.5215\n",
            "Epoch 18/100\n",
            "250/250 [==============================] - 4s 15ms/step - loss: 0.9946 - accuracy: 0.5878 - val_loss: 1.1111 - val_accuracy: 0.5255\n",
            "Epoch 19/100\n",
            "250/250 [==============================] - 4s 14ms/step - loss: 0.9850 - accuracy: 0.5951 - val_loss: 1.1018 - val_accuracy: 0.5275\n",
            "Epoch 20/100\n",
            " 61/250 [======>.......................] - ETA: 2s - loss: 0.9749 - accuracy: 0.6060"
          ]
        }
      ]
    },
    {
      "cell_type": "code",
      "source": [
        "loss = model.fit(epochs=20, validation_split=0.2)"
      ],
      "metadata": {
        "id": "IU8TYyhtNfMu",
        "outputId": "bad32359-6426-449c-c737-ce1c573ec7f7",
        "colab": {
          "base_uri": "https://localhost:8080/",
          "height": 310
        }
      },
      "execution_count": 15,
      "outputs": [
        {
          "output_type": "error",
          "ename": "ValueError",
          "evalue": "ignored",
          "traceback": [
            "\u001b[0;31m---------------------------------------------------------------------------\u001b[0m",
            "\u001b[0;31mValueError\u001b[0m                                Traceback (most recent call last)",
            "\u001b[0;32m<ipython-input-15-885d9eb7dea8>\u001b[0m in \u001b[0;36m<module>\u001b[0;34m()\u001b[0m\n\u001b[0;32m----> 1\u001b[0;31m \u001b[0mloss\u001b[0m \u001b[0;34m=\u001b[0m \u001b[0mmodel\u001b[0m\u001b[0;34m.\u001b[0m\u001b[0mfit\u001b[0m\u001b[0;34m(\u001b[0m\u001b[0mepochs\u001b[0m\u001b[0;34m=\u001b[0m\u001b[0;36m20\u001b[0m\u001b[0;34m,\u001b[0m \u001b[0mvalidation_split\u001b[0m\u001b[0;34m=\u001b[0m\u001b[0;36m0.2\u001b[0m\u001b[0;34m)\u001b[0m\u001b[0;34m\u001b[0m\u001b[0;34m\u001b[0m\u001b[0m\n\u001b[0m",
            "\u001b[0;32m/usr/local/lib/python3.7/dist-packages/keras/utils/traceback_utils.py\u001b[0m in \u001b[0;36merror_handler\u001b[0;34m(*args, **kwargs)\u001b[0m\n\u001b[1;32m     65\u001b[0m     \u001b[0;32mexcept\u001b[0m \u001b[0mException\u001b[0m \u001b[0;32mas\u001b[0m \u001b[0me\u001b[0m\u001b[0;34m:\u001b[0m  \u001b[0;31m# pylint: disable=broad-except\u001b[0m\u001b[0;34m\u001b[0m\u001b[0;34m\u001b[0m\u001b[0m\n\u001b[1;32m     66\u001b[0m       \u001b[0mfiltered_tb\u001b[0m \u001b[0;34m=\u001b[0m \u001b[0m_process_traceback_frames\u001b[0m\u001b[0;34m(\u001b[0m\u001b[0me\u001b[0m\u001b[0;34m.\u001b[0m\u001b[0m__traceback__\u001b[0m\u001b[0;34m)\u001b[0m\u001b[0;34m\u001b[0m\u001b[0;34m\u001b[0m\u001b[0m\n\u001b[0;32m---> 67\u001b[0;31m       \u001b[0;32mraise\u001b[0m \u001b[0me\u001b[0m\u001b[0;34m.\u001b[0m\u001b[0mwith_traceback\u001b[0m\u001b[0;34m(\u001b[0m\u001b[0mfiltered_tb\u001b[0m\u001b[0;34m)\u001b[0m \u001b[0;32mfrom\u001b[0m \u001b[0;32mNone\u001b[0m\u001b[0;34m\u001b[0m\u001b[0;34m\u001b[0m\u001b[0m\n\u001b[0m\u001b[1;32m     68\u001b[0m     \u001b[0;32mfinally\u001b[0m\u001b[0;34m:\u001b[0m\u001b[0;34m\u001b[0m\u001b[0;34m\u001b[0m\u001b[0m\n\u001b[1;32m     69\u001b[0m       \u001b[0;32mdel\u001b[0m \u001b[0mfiltered_tb\u001b[0m\u001b[0;34m\u001b[0m\u001b[0;34m\u001b[0m\u001b[0m\n",
            "\u001b[0;32m/usr/local/lib/python3.7/dist-packages/keras/engine/data_adapter.py\u001b[0m in \u001b[0;36mselect_data_adapter\u001b[0;34m(x, y)\u001b[0m\n\u001b[1;32m    989\u001b[0m         \u001b[0;34m\"Failed to find data adapter that can handle \"\u001b[0m\u001b[0;34m\u001b[0m\u001b[0;34m\u001b[0m\u001b[0m\n\u001b[1;32m    990\u001b[0m         \"input: {}, {}\".format(\n\u001b[0;32m--> 991\u001b[0;31m             _type_name(x), _type_name(y)))\n\u001b[0m\u001b[1;32m    992\u001b[0m   \u001b[0;32melif\u001b[0m \u001b[0mlen\u001b[0m\u001b[0;34m(\u001b[0m\u001b[0madapter_cls\u001b[0m\u001b[0;34m)\u001b[0m \u001b[0;34m>\u001b[0m \u001b[0;36m1\u001b[0m\u001b[0;34m:\u001b[0m\u001b[0;34m\u001b[0m\u001b[0;34m\u001b[0m\u001b[0m\n\u001b[1;32m    993\u001b[0m     raise RuntimeError(\n",
            "\u001b[0;31mValueError\u001b[0m: Failed to find data adapter that can handle input: <class 'NoneType'>, <class 'NoneType'>"
          ]
        }
      ]
    },
    {
      "cell_type": "code",
      "source": [
        ""
      ],
      "metadata": {
        "id": "iejZk1LJNDCu"
      },
      "execution_count": null,
      "outputs": []
    },
    {
      "cell_type": "code",
      "source": [
        ""
      ],
      "metadata": {
        "id": "nf3ld8odNDB_"
      },
      "execution_count": null,
      "outputs": []
    },
    {
      "cell_type": "code",
      "source": [
        "model = keras.models.Sequential()\n",
        "# Any pre-processing/re-shaping should be implemented using keras\n",
        "model.add(keras.layers.Flatten(input_shape=[50, 50]))\n",
        "model.add(keras.layers.Dense(20, activation='relu'))\n",
        "model.add(keras.layers.Dense(5, activation='softmax'))\n",
        "model.compile(loss=\"sparse_categorical_crossentropy\",\n",
        "              optimizer=\"sgd\",\n",
        "              metrics=[\"accuracy\"])\n",
        "model.summary()\n"
      ],
      "metadata": {
        "id": "2RRFI2NnFvBa",
        "outputId": "b578b3b5-bd33-4a0a-8641-771979c1ad66",
        "colab": {
          "base_uri": "https://localhost:8080/"
        }
      },
      "execution_count": null,
      "outputs": [
        {
          "output_type": "stream",
          "name": "stdout",
          "text": [
            "Model: \"sequential_3\"\n",
            "_________________________________________________________________\n",
            " Layer (type)                Output Shape              Param #   \n",
            "=================================================================\n",
            " flatten_3 (Flatten)         (None, 2500)              0         \n",
            "                                                                 \n",
            " dense_6 (Dense)             (None, 20)                50020     \n",
            "                                                                 \n",
            " dense_7 (Dense)             (None, 5)                 105       \n",
            "                                                                 \n",
            "=================================================================\n",
            "Total params: 50,125\n",
            "Trainable params: 50,125\n",
            "Non-trainable params: 0\n",
            "_________________________________________________________________\n"
          ]
        }
      ]
    },
    {
      "cell_type": "code",
      "source": [
        "\n",
        "model.fit(X, y, epochs=10)\n",
        "model.save('model.h5')"
      ],
      "metadata": {
        "id": "LOZ3gD28HldT",
        "outputId": "e6ab90dd-b4b0-4880-f405-375a70712544",
        "colab": {
          "base_uri": "https://localhost:8080/"
        }
      },
      "execution_count": null,
      "outputs": [
        {
          "output_type": "stream",
          "name": "stdout",
          "text": [
            "Epoch 1/10\n",
            "313/313 [==============================] - 2s 4ms/step - loss: 0.7296\n",
            "Epoch 2/10\n",
            "313/313 [==============================] - 2s 5ms/step - loss: 0.7059\n",
            "Epoch 3/10\n",
            "313/313 [==============================] - 1s 5ms/step - loss: 0.6936\n",
            "Epoch 4/10\n",
            "313/313 [==============================] - 1s 5ms/step - loss: 0.6752\n",
            "Epoch 5/10\n",
            "313/313 [==============================] - 1s 4ms/step - loss: 0.6588\n",
            "Epoch 6/10\n",
            "313/313 [==============================] - 1s 3ms/step - loss: 0.6449\n",
            "Epoch 7/10\n",
            "313/313 [==============================] - 1s 3ms/step - loss: 0.6283\n",
            "Epoch 8/10\n",
            "313/313 [==============================] - 1s 3ms/step - loss: 0.6166\n",
            "Epoch 9/10\n",
            "313/313 [==============================] - 1s 3ms/step - loss: 0.6073\n",
            "Epoch 10/10\n",
            "313/313 [==============================] - 1s 3ms/step - loss: 0.5974\n"
          ]
        }
      ]
    },
    {
      "cell_type": "code",
      "source": [
        "def evaluate(path, model):\n",
        "    X, y = pickle.load(gzip.open(path, 'rb'))\n",
        "    y[y != 0] -= 2\n",
        "    X = X / 255.\n",
        "    acc = np.mean(model(X).numpy().argmax(axis=1) == y)\n",
        "    return acc\n",
        "\n",
        "model = keras.models.load_model('model.h5')\n",
        "evaluate('/content/drive/MyDrive/Projektas/flatland_train.data', model)"
      ],
      "metadata": {
        "id": "QrmEuasvF0HO",
        "outputId": "5d94fe7c-ae27-4e8c-d9db-381af7db9be1",
        "colab": {
          "base_uri": "https://localhost:8080/"
        }
      },
      "execution_count": null,
      "outputs": [
        {
          "output_type": "execute_result",
          "data": {
            "text/plain": [
              "0.7185"
            ]
          },
          "metadata": {},
          "execution_count": 5
        }
      ]
    }
  ]
}